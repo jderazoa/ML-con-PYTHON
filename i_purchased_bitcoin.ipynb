{
  "nbformat": 4,
  "nbformat_minor": 5,
  "metadata": {
    "kernelspec": {
      "display_name": "Python 3",
      "language": "python",
      "name": "python3"
    },
    "language_info": {
      "codemirror_mode": {
        "name": "ipython",
        "version": 3
      },
      "file_extension": ".py",
      "mimetype": "text/x-python",
      "name": "python",
      "nbconvert_exporter": "python",
      "pygments_lexer": "ipython3",
      "version": "3.7.10"
    },
    "papermill": {
      "default_parameters": {},
      "duration": 1604.734319,
      "end_time": "2021-11-04T07:30:15.720368",
      "environment_variables": {},
      "exception": null,
      "input_path": "__notebook__.ipynb",
      "output_path": "__notebook__.ipynb",
      "parameters": {},
      "start_time": "2021-11-04T07:03:30.986049",
      "version": "2.3.3"
    },
    "colab": {
      "name": "i-purchased-bitcoin.ipynb",
      "provenance": [],
      "include_colab_link": true
    }
  },
  "cells": [
    {
      "cell_type": "markdown",
      "metadata": {
        "id": "view-in-github",
        "colab_type": "text"
      },
      "source": [
        "<a href=\"https://colab.research.google.com/github/jderazoa/ML-con-PYTHON/blob/master/i_purchased_bitcoin.ipynb\" target=\"_parent\"><img src=\"https://colab.research.google.com/assets/colab-badge.svg\" alt=\"Open In Colab\"/></a>"
      ]
    },
    {
      "cell_type": "markdown",
      "metadata": {
        "papermill": {
          "duration": 0.011374,
          "end_time": "2021-11-04T07:03:38.416991",
          "exception": false,
          "start_time": "2021-11-04T07:03:38.405617",
          "status": "completed"
        },
        "tags": [],
        "id": "41ece6a6"
      },
      "source": [
        "**Parent kernal [link ](https://www.kaggle.com/julian3833/g-research-starter-lgbm-pipeline-lb)**\n",
        "\n",
        "**changes n_estimators=1000,num_leaves=500,max_depth=10**"
      ],
      "id": "41ece6a6"
    },
    {
      "cell_type": "code",
      "metadata": {
        "execution": {
          "iopub.execute_input": "2021-11-04T07:03:38.445613Z",
          "iopub.status.busy": "2021-11-04T07:03:38.444784Z",
          "iopub.status.idle": "2021-11-04T07:03:41.334810Z",
          "shell.execute_reply": "2021-11-04T07:03:41.333866Z",
          "shell.execute_reply.started": "2021-11-04T03:20:04.906547Z"
        },
        "papermill": {
          "duration": 2.907621,
          "end_time": "2021-11-04T07:03:41.335013",
          "exception": false,
          "start_time": "2021-11-04T07:03:38.427392",
          "status": "completed"
        },
        "tags": [],
        "id": "990f727c",
        "outputId": "13088735-b110-4cf6-b054-c207a52b80de"
      },
      "source": [
        "import pandas as pd\n",
        "import numpy as np\n",
        "from lightgbm import LGBMRegressor\n",
        "import gresearch_crypto\n",
        "\n",
        "\n",
        "TRAIN_CSV = '/kaggle/input/g-research-crypto-forecasting/train.csv'\n",
        "ASSET_DETAILS_CSV = '/kaggle/input/g-research-crypto-forecasting/asset_details.csv'"
      ],
      "id": "990f727c",
      "execution_count": null,
      "outputs": [
        {
          "data": {
            "text/html": [
              "<style type='text/css'>\n",
              ".datatable table.frame { margin-bottom: 0; }\n",
              ".datatable table.frame thead { border-bottom: none; }\n",
              ".datatable table.frame tr.coltypes td {  color: #FFFFFF;  line-height: 6px;  padding: 0 0.5em;}\n",
              ".datatable .bool    { background: #DDDD99; }\n",
              ".datatable .object  { background: #565656; }\n",
              ".datatable .int     { background: #5D9E5D; }\n",
              ".datatable .float   { background: #4040CC; }\n",
              ".datatable .str     { background: #CC4040; }\n",
              ".datatable .time    { background: #40CC40; }\n",
              ".datatable .row_index {  background: var(--jp-border-color3);  border-right: 1px solid var(--jp-border-color0);  color: var(--jp-ui-font-color3);  font-size: 9px;}\n",
              ".datatable .frame tbody td { text-align: left; }\n",
              ".datatable .frame tr.coltypes .row_index {  background: var(--jp-border-color0);}\n",
              ".datatable th:nth-child(2) { padding-left: 12px; }\n",
              ".datatable .hellipsis {  color: var(--jp-cell-editor-border-color);}\n",
              ".datatable .vellipsis {  background: var(--jp-layout-color0);  color: var(--jp-cell-editor-border-color);}\n",
              ".datatable .na {  color: var(--jp-cell-editor-border-color);  font-size: 80%;}\n",
              ".datatable .sp {  opacity: 0.25;}\n",
              ".datatable .footer { font-size: 9px; }\n",
              ".datatable .frame_dimensions {  background: var(--jp-border-color3);  border-top: 1px solid var(--jp-border-color0);  color: var(--jp-ui-font-color3);  display: inline-block;  opacity: 0.6;  padding: 1px 10px 1px 5px;}\n",
              "</style>\n"
            ],
            "text/plain": [
              "<IPython.core.display.HTML object>"
            ]
          },
          "metadata": {},
          "output_type": "display_data"
        }
      ]
    },
    {
      "cell_type": "code",
      "metadata": {
        "execution": {
          "iopub.execute_input": "2021-11-04T07:03:41.372076Z",
          "iopub.status.busy": "2021-11-04T07:03:41.370842Z",
          "iopub.status.idle": "2021-11-04T07:04:32.908620Z",
          "shell.execute_reply": "2021-11-04T07:04:32.909115Z",
          "shell.execute_reply.started": "2021-11-04T03:20:07.040735Z"
        },
        "papermill": {
          "duration": 51.55802,
          "end_time": "2021-11-04T07:04:32.909312",
          "exception": false,
          "start_time": "2021-11-04T07:03:41.351292",
          "status": "completed"
        },
        "tags": [],
        "id": "298685fb",
        "outputId": "76350460-d628-480e-adbf-b53d82a6d7af"
      },
      "source": [
        "df_train = pd.read_csv(TRAIN_CSV)\n",
        "df_train.head()"
      ],
      "id": "298685fb",
      "execution_count": null,
      "outputs": [
        {
          "data": {
            "text/html": [
              "<div>\n",
              "<style scoped>\n",
              "    .dataframe tbody tr th:only-of-type {\n",
              "        vertical-align: middle;\n",
              "    }\n",
              "\n",
              "    .dataframe tbody tr th {\n",
              "        vertical-align: top;\n",
              "    }\n",
              "\n",
              "    .dataframe thead th {\n",
              "        text-align: right;\n",
              "    }\n",
              "</style>\n",
              "<table border=\"1\" class=\"dataframe\">\n",
              "  <thead>\n",
              "    <tr style=\"text-align: right;\">\n",
              "      <th></th>\n",
              "      <th>timestamp</th>\n",
              "      <th>Asset_ID</th>\n",
              "      <th>Count</th>\n",
              "      <th>Open</th>\n",
              "      <th>High</th>\n",
              "      <th>Low</th>\n",
              "      <th>Close</th>\n",
              "      <th>Volume</th>\n",
              "      <th>VWAP</th>\n",
              "      <th>Target</th>\n",
              "    </tr>\n",
              "  </thead>\n",
              "  <tbody>\n",
              "    <tr>\n",
              "      <th>0</th>\n",
              "      <td>1514764860</td>\n",
              "      <td>2</td>\n",
              "      <td>40.0</td>\n",
              "      <td>2376.5800</td>\n",
              "      <td>2399.5000</td>\n",
              "      <td>2357.1400</td>\n",
              "      <td>2374.5900</td>\n",
              "      <td>19.233005</td>\n",
              "      <td>2373.116392</td>\n",
              "      <td>-0.004218</td>\n",
              "    </tr>\n",
              "    <tr>\n",
              "      <th>1</th>\n",
              "      <td>1514764860</td>\n",
              "      <td>0</td>\n",
              "      <td>5.0</td>\n",
              "      <td>8.5300</td>\n",
              "      <td>8.5300</td>\n",
              "      <td>8.5300</td>\n",
              "      <td>8.5300</td>\n",
              "      <td>78.380000</td>\n",
              "      <td>8.530000</td>\n",
              "      <td>-0.014399</td>\n",
              "    </tr>\n",
              "    <tr>\n",
              "      <th>2</th>\n",
              "      <td>1514764860</td>\n",
              "      <td>1</td>\n",
              "      <td>229.0</td>\n",
              "      <td>13835.1940</td>\n",
              "      <td>14013.8000</td>\n",
              "      <td>13666.1100</td>\n",
              "      <td>13850.1760</td>\n",
              "      <td>31.550062</td>\n",
              "      <td>13827.062093</td>\n",
              "      <td>-0.014643</td>\n",
              "    </tr>\n",
              "    <tr>\n",
              "      <th>3</th>\n",
              "      <td>1514764860</td>\n",
              "      <td>5</td>\n",
              "      <td>32.0</td>\n",
              "      <td>7.6596</td>\n",
              "      <td>7.6596</td>\n",
              "      <td>7.6567</td>\n",
              "      <td>7.6576</td>\n",
              "      <td>6626.713370</td>\n",
              "      <td>7.657713</td>\n",
              "      <td>-0.013922</td>\n",
              "    </tr>\n",
              "    <tr>\n",
              "      <th>4</th>\n",
              "      <td>1514764860</td>\n",
              "      <td>7</td>\n",
              "      <td>5.0</td>\n",
              "      <td>25.9200</td>\n",
              "      <td>25.9200</td>\n",
              "      <td>25.8740</td>\n",
              "      <td>25.8770</td>\n",
              "      <td>121.087310</td>\n",
              "      <td>25.891363</td>\n",
              "      <td>-0.008264</td>\n",
              "    </tr>\n",
              "  </tbody>\n",
              "</table>\n",
              "</div>"
            ],
            "text/plain": [
              "    timestamp  Asset_ID  Count        Open        High         Low  \\\n",
              "0  1514764860         2   40.0   2376.5800   2399.5000   2357.1400   \n",
              "1  1514764860         0    5.0      8.5300      8.5300      8.5300   \n",
              "2  1514764860         1  229.0  13835.1940  14013.8000  13666.1100   \n",
              "3  1514764860         5   32.0      7.6596      7.6596      7.6567   \n",
              "4  1514764860         7    5.0     25.9200     25.9200     25.8740   \n",
              "\n",
              "        Close       Volume          VWAP    Target  \n",
              "0   2374.5900    19.233005   2373.116392 -0.004218  \n",
              "1      8.5300    78.380000      8.530000 -0.014399  \n",
              "2  13850.1760    31.550062  13827.062093 -0.014643  \n",
              "3      7.6576  6626.713370      7.657713 -0.013922  \n",
              "4     25.8770   121.087310     25.891363 -0.008264  "
            ]
          },
          "execution_count": 2,
          "metadata": {},
          "output_type": "execute_result"
        }
      ]
    },
    {
      "cell_type": "code",
      "metadata": {
        "execution": {
          "iopub.execute_input": "2021-11-04T07:04:32.932729Z",
          "iopub.status.busy": "2021-11-04T07:04:32.932069Z",
          "iopub.status.idle": "2021-11-04T07:04:32.951542Z",
          "shell.execute_reply": "2021-11-04T07:04:32.951031Z",
          "shell.execute_reply.started": "2021-11-04T03:20:59.624393Z"
        },
        "papermill": {
          "duration": 0.032344,
          "end_time": "2021-11-04T07:04:32.951653",
          "exception": false,
          "start_time": "2021-11-04T07:04:32.919309",
          "status": "completed"
        },
        "tags": [],
        "id": "270d6011",
        "outputId": "3e48e328-fcdd-4919-dcfb-04324e288a7f"
      },
      "source": [
        "df_asset_details = pd.read_csv(ASSET_DETAILS_CSV).sort_values(\"Asset_ID\")\n",
        "df_asset_details"
      ],
      "id": "270d6011",
      "execution_count": null,
      "outputs": [
        {
          "data": {
            "text/html": [
              "<div>\n",
              "<style scoped>\n",
              "    .dataframe tbody tr th:only-of-type {\n",
              "        vertical-align: middle;\n",
              "    }\n",
              "\n",
              "    .dataframe tbody tr th {\n",
              "        vertical-align: top;\n",
              "    }\n",
              "\n",
              "    .dataframe thead th {\n",
              "        text-align: right;\n",
              "    }\n",
              "</style>\n",
              "<table border=\"1\" class=\"dataframe\">\n",
              "  <thead>\n",
              "    <tr style=\"text-align: right;\">\n",
              "      <th></th>\n",
              "      <th>Asset_ID</th>\n",
              "      <th>Weight</th>\n",
              "      <th>Asset_Name</th>\n",
              "    </tr>\n",
              "  </thead>\n",
              "  <tbody>\n",
              "    <tr>\n",
              "      <th>1</th>\n",
              "      <td>0</td>\n",
              "      <td>4.304065</td>\n",
              "      <td>Binance Coin</td>\n",
              "    </tr>\n",
              "    <tr>\n",
              "      <th>2</th>\n",
              "      <td>1</td>\n",
              "      <td>6.779922</td>\n",
              "      <td>Bitcoin</td>\n",
              "    </tr>\n",
              "    <tr>\n",
              "      <th>0</th>\n",
              "      <td>2</td>\n",
              "      <td>2.397895</td>\n",
              "      <td>Bitcoin Cash</td>\n",
              "    </tr>\n",
              "    <tr>\n",
              "      <th>10</th>\n",
              "      <td>3</td>\n",
              "      <td>4.406719</td>\n",
              "      <td>Cardano</td>\n",
              "    </tr>\n",
              "    <tr>\n",
              "      <th>13</th>\n",
              "      <td>4</td>\n",
              "      <td>3.555348</td>\n",
              "      <td>Dogecoin</td>\n",
              "    </tr>\n",
              "    <tr>\n",
              "      <th>3</th>\n",
              "      <td>5</td>\n",
              "      <td>1.386294</td>\n",
              "      <td>EOS.IO</td>\n",
              "    </tr>\n",
              "    <tr>\n",
              "      <th>5</th>\n",
              "      <td>6</td>\n",
              "      <td>5.894403</td>\n",
              "      <td>Ethereum</td>\n",
              "    </tr>\n",
              "    <tr>\n",
              "      <th>4</th>\n",
              "      <td>7</td>\n",
              "      <td>2.079442</td>\n",
              "      <td>Ethereum Classic</td>\n",
              "    </tr>\n",
              "    <tr>\n",
              "      <th>11</th>\n",
              "      <td>8</td>\n",
              "      <td>1.098612</td>\n",
              "      <td>IOTA</td>\n",
              "    </tr>\n",
              "    <tr>\n",
              "      <th>6</th>\n",
              "      <td>9</td>\n",
              "      <td>2.397895</td>\n",
              "      <td>Litecoin</td>\n",
              "    </tr>\n",
              "    <tr>\n",
              "      <th>12</th>\n",
              "      <td>10</td>\n",
              "      <td>1.098612</td>\n",
              "      <td>Maker</td>\n",
              "    </tr>\n",
              "    <tr>\n",
              "      <th>7</th>\n",
              "      <td>11</td>\n",
              "      <td>1.609438</td>\n",
              "      <td>Monero</td>\n",
              "    </tr>\n",
              "    <tr>\n",
              "      <th>9</th>\n",
              "      <td>12</td>\n",
              "      <td>2.079442</td>\n",
              "      <td>Stellar</td>\n",
              "    </tr>\n",
              "    <tr>\n",
              "      <th>8</th>\n",
              "      <td>13</td>\n",
              "      <td>1.791759</td>\n",
              "      <td>TRON</td>\n",
              "    </tr>\n",
              "  </tbody>\n",
              "</table>\n",
              "</div>"
            ],
            "text/plain": [
              "    Asset_ID    Weight        Asset_Name\n",
              "1          0  4.304065      Binance Coin\n",
              "2          1  6.779922           Bitcoin\n",
              "0          2  2.397895      Bitcoin Cash\n",
              "10         3  4.406719           Cardano\n",
              "13         4  3.555348          Dogecoin\n",
              "3          5  1.386294            EOS.IO\n",
              "5          6  5.894403          Ethereum\n",
              "4          7  2.079442  Ethereum Classic\n",
              "11         8  1.098612              IOTA\n",
              "6          9  2.397895          Litecoin\n",
              "12        10  1.098612             Maker\n",
              "7         11  1.609438            Monero\n",
              "9         12  2.079442           Stellar\n",
              "8         13  1.791759              TRON"
            ]
          },
          "execution_count": 3,
          "metadata": {},
          "output_type": "execute_result"
        }
      ]
    },
    {
      "cell_type": "markdown",
      "metadata": {
        "papermill": {
          "duration": 0.009493,
          "end_time": "2021-11-04T07:04:32.971311",
          "exception": false,
          "start_time": "2021-11-04T07:04:32.961818",
          "status": "completed"
        },
        "tags": [],
        "id": "2b0c2589"
      },
      "source": [
        "# Training"
      ],
      "id": "2b0c2589"
    },
    {
      "cell_type": "markdown",
      "metadata": {
        "papermill": {
          "duration": 0.009642,
          "end_time": "2021-11-04T07:04:32.991094",
          "exception": false,
          "start_time": "2021-11-04T07:04:32.981452",
          "status": "completed"
        },
        "tags": [],
        "id": "b1564747"
      },
      "source": [
        "## Utility functions to train a model for one asset"
      ],
      "id": "b1564747"
    },
    {
      "cell_type": "code",
      "metadata": {
        "execution": {
          "iopub.execute_input": "2021-11-04T07:04:33.018866Z",
          "iopub.status.busy": "2021-11-04T07:04:33.018253Z",
          "iopub.status.idle": "2021-11-04T07:04:33.020791Z",
          "shell.execute_reply": "2021-11-04T07:04:33.021169Z",
          "shell.execute_reply.started": "2021-11-04T03:20:59.648598Z"
        },
        "papermill": {
          "duration": 0.020492,
          "end_time": "2021-11-04T07:04:33.021313",
          "exception": false,
          "start_time": "2021-11-04T07:04:33.000821",
          "status": "completed"
        },
        "tags": [],
        "id": "5e1fe0b2"
      },
      "source": [
        "# Two new features from the competition tutorial\n",
        "def upper_shadow(df):\n",
        "    return df['High'] - np.maximum(df['Close'], df['Open'])\n",
        "\n",
        "def lower_shadow(df):\n",
        "    return np.minimum(df['Close'], df['Open']) - df['Low']\n",
        "\n",
        "# A utility function to build features from the original df\n",
        "# It works for rows to, so we can reutilize it.\n",
        "def get_features(df):\n",
        "    df_feat = df[['Count', 'Open', 'High', 'Low', 'Close', 'Volume', 'VWAP']].copy()\n",
        "    df_feat['Upper_Shadow'] = upper_shadow(df_feat)\n",
        "    df_feat['Lower_Shadow'] = lower_shadow(df_feat)\n",
        "    return df_feat\n",
        "\n",
        "def get_Xy_and_model_for_asset(df_train, asset_id):\n",
        "    df = df_train[df_train[\"Asset_ID\"] == asset_id]\n",
        "   \n",
        "    # TODO: Try different features here!\n",
        "    df_proc = get_features(df)\n",
        "    df_proc['y'] = df['Target']\n",
        "    df_proc = df_proc.dropna(how=\"any\")\n",
        "    \n",
        "    X = df_proc.drop(\"y\", axis=1)\n",
        "    y = df_proc[\"y\"]\n",
        "    \n",
        "    # TODO: Try different models here!\n",
        "    model = LGBMRegressor(n_estimators=1500,num_leaves=700,learning_rate=0.09)\n",
        "    model.fit(X, y)\n",
        "    return X, y, model"
      ],
      "id": "5e1fe0b2",
      "execution_count": null,
      "outputs": []
    },
    {
      "cell_type": "markdown",
      "metadata": {
        "papermill": {
          "duration": 0.009753,
          "end_time": "2021-11-04T07:04:33.041030",
          "exception": false,
          "start_time": "2021-11-04T07:04:33.031277",
          "status": "completed"
        },
        "tags": [],
        "id": "fcef2301"
      },
      "source": [
        "## Loop over all assets"
      ],
      "id": "fcef2301"
    },
    {
      "cell_type": "code",
      "metadata": {
        "execution": {
          "iopub.execute_input": "2021-11-04T07:04:33.066969Z",
          "iopub.status.busy": "2021-11-04T07:04:33.066052Z",
          "iopub.status.idle": "2021-11-04T07:30:14.414471Z",
          "shell.execute_reply": "2021-11-04T07:30:14.413511Z",
          "shell.execute_reply.started": "2021-11-04T03:20:59.658664Z"
        },
        "papermill": {
          "duration": 1541.363525,
          "end_time": "2021-11-04T07:30:14.414625",
          "exception": false,
          "start_time": "2021-11-04T07:04:33.051100",
          "status": "completed"
        },
        "tags": [],
        "id": "85919677",
        "outputId": "bd314bbe-649c-41e4-de09-e909be92d4a1"
      },
      "source": [
        "Xs = {}\n",
        "ys = {}\n",
        "models = {}\n",
        "\n",
        "for asset_id, asset_name in zip(df_asset_details['Asset_ID'], df_asset_details['Asset_Name']):\n",
        "    print(f\"Training model for {asset_name:<16} (ID={asset_id:<2})\")\n",
        "    X, y, model = get_Xy_and_model_for_asset(df_train, asset_id)    \n",
        "    Xs[asset_id], ys[asset_id], models[asset_id] = X, y, model"
      ],
      "id": "85919677",
      "execution_count": null,
      "outputs": [
        {
          "name": "stdout",
          "output_type": "stream",
          "text": [
            "Training model for Binance Coin     (ID=0 )\n",
            "Training model for Bitcoin          (ID=1 )\n",
            "Training model for Bitcoin Cash     (ID=2 )\n",
            "Training model for Cardano          (ID=3 )\n",
            "Training model for Dogecoin         (ID=4 )\n",
            "Training model for EOS.IO           (ID=5 )\n",
            "Training model for Ethereum         (ID=6 )\n",
            "Training model for Ethereum Classic (ID=7 )\n",
            "Training model for IOTA             (ID=8 )\n",
            "Training model for Litecoin         (ID=9 )\n",
            "Training model for Maker            (ID=10)\n",
            "Training model for Monero           (ID=11)\n",
            "Training model for Stellar          (ID=12)\n",
            "Training model for TRON             (ID=13)\n"
          ]
        }
      ]
    },
    {
      "cell_type": "code",
      "metadata": {
        "execution": {
          "iopub.execute_input": "2021-11-04T07:30:14.454583Z",
          "iopub.status.busy": "2021-11-04T07:30:14.454003Z",
          "iopub.status.idle": "2021-11-04T07:30:14.459566Z",
          "shell.execute_reply": "2021-11-04T07:30:14.459990Z",
          "shell.execute_reply.started": "2021-11-04T03:42:01.236871Z"
        },
        "papermill": {
          "duration": 0.031635,
          "end_time": "2021-11-04T07:30:14.460135",
          "exception": false,
          "start_time": "2021-11-04T07:30:14.428500",
          "status": "completed"
        },
        "tags": [],
        "id": "857ef0d9",
        "outputId": "845e9942-571f-485e-a798-20ac59bbfea0"
      },
      "source": [
        "# Check the model interface\n",
        "x = get_features(df_train.iloc[1])\n",
        "y_pred = models[0].predict([x])\n",
        "y_pred[0]"
      ],
      "id": "857ef0d9",
      "execution_count": null,
      "outputs": [
        {
          "data": {
            "text/plain": [
              "-0.0013812843374004639"
            ]
          },
          "execution_count": 6,
          "metadata": {},
          "output_type": "execute_result"
        }
      ]
    },
    {
      "cell_type": "markdown",
      "metadata": {
        "execution": {
          "iopub.status.busy": "2021-11-02T20:57:49.349459Z",
          "iopub.status.idle": "2021-11-02T20:57:49.349757Z",
          "shell.execute_reply": "2021-11-02T20:57:49.349613Z",
          "shell.execute_reply.started": "2021-11-02T20:57:49.349596Z"
        },
        "papermill": {
          "duration": 0.013899,
          "end_time": "2021-11-04T07:30:14.488405",
          "exception": false,
          "start_time": "2021-11-04T07:30:14.474506",
          "status": "completed"
        },
        "tags": [],
        "id": "f65d691a"
      },
      "source": [
        "# Predict & submit\n",
        "\n",
        "References: [Detailed API Introduction](https://www.kaggle.com/sohier/detailed-api-introduction)\n",
        "\n",
        "Something that helped me understand this iterator was adding a pdb checkpoint inside of the for loop:\n",
        "\n",
        "```python\n",
        "import pdb; pdb.set_trace()\n",
        "```\n",
        "\n",
        "See [Python Debugging With Pdb](https://realpython.com/python-debugging-pdb/) if you want to use it and you don't know how to.\n"
      ],
      "id": "f65d691a"
    },
    {
      "cell_type": "code",
      "metadata": {
        "execution": {
          "iopub.execute_input": "2021-11-04T07:30:14.522436Z",
          "iopub.status.busy": "2021-11-04T07:30:14.521729Z",
          "iopub.status.idle": "2021-11-04T07:30:14.732170Z",
          "shell.execute_reply": "2021-11-04T07:30:14.732955Z",
          "shell.execute_reply.started": "2021-11-04T03:42:01.276197Z"
        },
        "papermill": {
          "duration": 0.23114,
          "end_time": "2021-11-04T07:30:14.733122",
          "exception": false,
          "start_time": "2021-11-04T07:30:14.501982",
          "status": "completed"
        },
        "tags": [],
        "id": "9fb9339e",
        "outputId": "12eb434a-e493-406f-faa2-30f6095bb865"
      },
      "source": [
        "env = gresearch_crypto.make_env()\n",
        "iter_test = env.iter_test()\n",
        "\n",
        "for i, (df_test, df_pred) in enumerate(iter_test):\n",
        "    for j , row in df_test.iterrows():\n",
        "        \n",
        "        model = models[row['Asset_ID']]\n",
        "        x_test = get_features(row)\n",
        "        y_pred = model.predict([x_test])[0]\n",
        "        \n",
        "        df_pred.loc[df_pred['row_id'] == row['row_id'], 'Target'] = y_pred\n",
        "        \n",
        "        \n",
        "        # Print just one sample row to get a feeling of what it looks like\n",
        "        if i == 0 and j == 0:\n",
        "            display(x_test)\n",
        "\n",
        "    # Display the first prediction dataframe\n",
        "    if i == 0:\n",
        "        display(df_pred)\n",
        "\n",
        "    # Send submissions\n",
        "    env.predict(df_pred)"
      ],
      "id": "9fb9339e",
      "execution_count": null,
      "outputs": [
        {
          "name": "stdout",
          "output_type": "stream",
          "text": [
            "This version of the API is not optimized and should not be used to estimate the runtime of your code on the hidden test set.\n"
          ]
        },
        {
          "data": {
            "text/plain": [
              "Count             1201.000000\n",
              "Open                 1.478556\n",
              "High                 1.486030\n",
              "Low                  1.478000\n",
              "Close                1.483681\n",
              "Volume          654799.561103\n",
              "VWAP                 1.481439\n",
              "Upper_Shadow         0.002349\n",
              "Lower_Shadow         0.000556\n",
              "Name: 0, dtype: float64"
            ]
          },
          "metadata": {},
          "output_type": "display_data"
        },
        {
          "data": {
            "text/html": [
              "<div>\n",
              "<style scoped>\n",
              "    .dataframe tbody tr th:only-of-type {\n",
              "        vertical-align: middle;\n",
              "    }\n",
              "\n",
              "    .dataframe tbody tr th {\n",
              "        vertical-align: top;\n",
              "    }\n",
              "\n",
              "    .dataframe thead th {\n",
              "        text-align: right;\n",
              "    }\n",
              "</style>\n",
              "<table border=\"1\" class=\"dataframe\">\n",
              "  <thead>\n",
              "    <tr style=\"text-align: right;\">\n",
              "      <th></th>\n",
              "      <th>row_id</th>\n",
              "      <th>Target</th>\n",
              "    </tr>\n",
              "  </thead>\n",
              "  <tbody>\n",
              "    <tr>\n",
              "      <th>0</th>\n",
              "      <td>0</td>\n",
              "      <td>-0.000910</td>\n",
              "    </tr>\n",
              "    <tr>\n",
              "      <th>1</th>\n",
              "      <td>1</td>\n",
              "      <td>-0.003386</td>\n",
              "    </tr>\n",
              "    <tr>\n",
              "      <th>2</th>\n",
              "      <td>2</td>\n",
              "      <td>-0.000450</td>\n",
              "    </tr>\n",
              "    <tr>\n",
              "      <th>3</th>\n",
              "      <td>3</td>\n",
              "      <td>0.000569</td>\n",
              "    </tr>\n",
              "    <tr>\n",
              "      <th>4</th>\n",
              "      <td>4</td>\n",
              "      <td>0.000293</td>\n",
              "    </tr>\n",
              "    <tr>\n",
              "      <th>5</th>\n",
              "      <td>5</td>\n",
              "      <td>-0.000111</td>\n",
              "    </tr>\n",
              "    <tr>\n",
              "      <th>6</th>\n",
              "      <td>6</td>\n",
              "      <td>-0.001549</td>\n",
              "    </tr>\n",
              "    <tr>\n",
              "      <th>7</th>\n",
              "      <td>7</td>\n",
              "      <td>0.000071</td>\n",
              "    </tr>\n",
              "    <tr>\n",
              "      <th>8</th>\n",
              "      <td>8</td>\n",
              "      <td>-0.000709</td>\n",
              "    </tr>\n",
              "    <tr>\n",
              "      <th>9</th>\n",
              "      <td>9</td>\n",
              "      <td>-0.000092</td>\n",
              "    </tr>\n",
              "    <tr>\n",
              "      <th>10</th>\n",
              "      <td>10</td>\n",
              "      <td>-0.000488</td>\n",
              "    </tr>\n",
              "    <tr>\n",
              "      <th>11</th>\n",
              "      <td>11</td>\n",
              "      <td>-0.000479</td>\n",
              "    </tr>\n",
              "    <tr>\n",
              "      <th>12</th>\n",
              "      <td>12</td>\n",
              "      <td>-0.000867</td>\n",
              "    </tr>\n",
              "    <tr>\n",
              "      <th>13</th>\n",
              "      <td>13</td>\n",
              "      <td>-0.000600</td>\n",
              "    </tr>\n",
              "  </tbody>\n",
              "</table>\n",
              "</div>"
            ],
            "text/plain": [
              "    row_id    Target\n",
              "0        0 -0.000910\n",
              "1        1 -0.003386\n",
              "2        2 -0.000450\n",
              "3        3  0.000569\n",
              "4        4  0.000293\n",
              "5        5 -0.000111\n",
              "6        6 -0.001549\n",
              "7        7  0.000071\n",
              "8        8 -0.000709\n",
              "9        9 -0.000092\n",
              "10      10 -0.000488\n",
              "11      11 -0.000479\n",
              "12      12 -0.000867\n",
              "13      13 -0.000600"
            ]
          },
          "metadata": {},
          "output_type": "display_data"
        }
      ]
    },
    {
      "cell_type": "code",
      "metadata": {
        "papermill": {
          "duration": 0.014473,
          "end_time": "2021-11-04T07:30:14.764718",
          "exception": false,
          "start_time": "2021-11-04T07:30:14.750245",
          "status": "completed"
        },
        "tags": [],
        "id": "9d0bc8c2"
      },
      "source": [
        ""
      ],
      "id": "9d0bc8c2",
      "execution_count": null,
      "outputs": []
    },
    {
      "cell_type": "markdown",
      "metadata": {
        "papermill": {
          "duration": 0.014671,
          "end_time": "2021-11-04T07:30:14.794288",
          "exception": false,
          "start_time": "2021-11-04T07:30:14.779617",
          "status": "completed"
        },
        "tags": [],
        "id": "5cb6a8cd"
      },
      "source": [
        ""
      ],
      "id": "5cb6a8cd"
    }
  ]
}