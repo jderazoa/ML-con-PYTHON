{
  "nbformat": 4,
  "nbformat_minor": 5,
  "metadata": {
    "kernelspec": {
      "display_name": "Python 3",
      "language": "python",
      "name": "python3"
    },
    "language_info": {
      "codemirror_mode": {
        "name": "ipython",
        "version": 3
      },
      "file_extension": ".py",
      "mimetype": "text/x-python",
      "name": "python",
      "nbconvert_exporter": "python",
      "pygments_lexer": "ipython3",
      "version": "3.7.10"
    },
    "papermill": {
      "default_parameters": {},
      "duration": 125.128296,
      "end_time": "2021-11-17T19:26:20.715769",
      "environment_variables": {},
      "exception": null,
      "input_path": "__notebook__.ipynb",
      "output_path": "__notebook__.ipynb",
      "parameters": {},
      "start_time": "2021-11-17T19:24:15.587473",
      "version": "2.3.3"
    },
    "colab": {
      "name": "recreating-target.ipynb",
      "provenance": [],
      "include_colab_link": true
    }
  },
  "cells": [
    {
      "cell_type": "markdown",
      "metadata": {
        "id": "view-in-github",
        "colab_type": "text"
      },
      "source": [
        "<a href=\"https://colab.research.google.com/github/jderazoa/ML-con-PYTHON/blob/master/recreating_target.ipynb\" target=\"_parent\"><img src=\"https://colab.research.google.com/assets/colab-badge.svg\" alt=\"Open In Colab\"/></a>"
      ]
    },
    {
      "cell_type": "markdown",
      "metadata": {
        "papermill": {
          "duration": 0.029743,
          "end_time": "2021-11-17T19:24:24.700333",
          "exception": false,
          "start_time": "2021-11-17T19:24:24.670590",
          "status": "completed"
        },
        "tags": [],
        "id": "7299baac"
      },
      "source": [
        "# Goals and progress\n",
        "In this notebook we try to recreate Target calculation described in [Tutorial to the G-Research Crypto Competition](https://www.kaggle.com/cstein06/tutorial-to-the-g-research-crypto-competition/notebook#Building-your-prediction-model).\n",
        "\n",
        "The code presented here is focused on proper Target calculation and is not optimized. The current notebook version provides close result, but not ideal. In average the difference is quite small, but for some rows gives values outside of normal Target range. I hope we could fix this with help of host, kaggle team and community.\n",
        "\n",
        "**Update from 9-Nov-2021**\n",
        "\n",
        "Thanks to investigation from Ernesto Budia (see his [notebook](https://www.kaggle.com/ebudia/recreating-target-min-periods-3750/)) we know how to get much closer match - when calculating $\\beta^a$ rolling average $\\langle .\\rangle$ should be done for full 3750 minutes.\n",
        "\n",
        "As a result of this change  \n",
        "Average absolute error improved 0.00099 => 0.00006  \n",
        "Max absolute error improved 2.44 => 0.045\n",
        "\n",
        "**Update from 12-Nov-2021**\n",
        "\n",
        "It turns out that naive approach we used at the beginning gives a lot of NA values for Recreated Target, so comparison between Target and Recreated target was done only for part of data (calculating Average/Max error does not reflect real picture). Additionally host published part of code, so we try to create faster version of current calculations using this code.\n",
        "\n",
        "Average absolute error 0.000190  \n",
        "Max absolute error 0.289100  \n",
        "Standard deviation 0.001135  \n",
        "\n",
        "**Update from 17 Nov-2021**\n",
        "\n",
        "* use x-1 instead of log(x) when calculating return R - see [comment](https://www.kaggle.com/c/g-research-crypto-forecasting/discussion/286778#1582764) by Branden Murray\n",
        "* use unique timestamps (not all possible minutes as in previous version) - check line \"all_timestamps = np.sort(data['timestamp'].unique())\"\n",
        "\n",
        "The last change means that all shift/rolling operations are done not in terms of minutes, but in terms of available records. The difference appears when a timestamp is missing for all assets.\n",
        "\n",
        "Average absolute error 0.000190 => 0.000000  \n",
        "Max absolute error 0.289100 => 0.003798  \n",
        "Standard deviation 0.001135 = 0.000001  "
      ],
      "id": "7299baac"
    },
    {
      "cell_type": "markdown",
      "metadata": {
        "papermill": {
          "duration": 0.026089,
          "end_time": "2021-11-17T19:24:24.753594",
          "exception": false,
          "start_time": "2021-11-17T19:24:24.727505",
          "status": "completed"
        },
        "tags": [],
        "id": "f3f4a3df"
      },
      "source": [
        "# Naive approach\n",
        "In this section we are implementing step by step calculation based on Target calculation description. It is slow and gives a lot of NA values in Recreated Target. So if you need faster/more correct version and not understanding of how it is calculated, jump to More optimized section.\n",
        "\n",
        "Let's start with reading assets details, train data and adding Time column."
      ],
      "id": "f3f4a3df"
    },
    {
      "cell_type": "code",
      "metadata": {
        "execution": {
          "iopub.execute_input": "2021-11-17T19:24:24.819470Z",
          "iopub.status.busy": "2021-11-17T19:24:24.816593Z",
          "iopub.status.idle": "2021-11-17T19:25:14.773097Z",
          "shell.execute_reply": "2021-11-17T19:25:14.772322Z",
          "shell.execute_reply.started": "2021-11-17T19:21:58.175959Z"
        },
        "papermill": {
          "duration": 49.993312,
          "end_time": "2021-11-17T19:25:14.773290",
          "exception": false,
          "start_time": "2021-11-17T19:24:24.779978",
          "status": "completed"
        },
        "tags": [],
        "id": "563a2f43"
      },
      "source": [
        "import os\n",
        "import numpy as np\n",
        "import pandas as pd\n",
        "import gc\n",
        "\n",
        "directory = '../input/g-research-crypto-forecasting'\n",
        "file_path = os.path.join(directory, 'train.csv')\n",
        "dtypes = {\n",
        "    'timestamp': np.int64,\n",
        "    'Asset_ID': np.int8,\n",
        "#     'Count': np.int32,\n",
        "#     'Open': np.float64,\n",
        "#     'High': np.float64,\n",
        "#     'Low': np.float64,\n",
        "    'Close': np.float64,\n",
        "#     'Volume': np.float64,\n",
        "#     'VWAP': np.float64,\n",
        "    'Target': np.float64,\n",
        "}\n",
        "data = pd.read_csv(file_path, dtype=dtypes, usecols=list(dtypes.keys()))\n",
        "data['Time'] = pd.to_datetime(data['timestamp'], unit='s')\n",
        "\n",
        "file_path = os.path.join(directory, 'asset_details.csv')\n",
        "details = pd.read_csv(file_path)"
      ],
      "id": "563a2f43",
      "execution_count": null,
      "outputs": []
    },
    {
      "cell_type": "markdown",
      "metadata": {
        "papermill": {
          "duration": 0.026114,
          "end_time": "2021-11-17T19:25:14.826739",
          "exception": false,
          "start_time": "2021-11-17T19:25:14.800625",
          "status": "completed"
        },
        "tags": [],
        "id": "3bd4e1cd"
      },
      "source": [
        "Then calculate return as per formula below. \n",
        "\n",
        "$$R^a(t) = log (P^a(t+16)\\ /\\ P^a(t+1))$$\n",
        "\n",
        "This is done for each asset separately. We do not know which price should be used. There are five different prices: Open, High, Low, Close, and VWAP. Probably there is a mix like Open price for time + 1 min, and Close for time + 16 min. We use **Close** price in calculation below."
      ],
      "id": "3bd4e1cd"
    },
    {
      "cell_type": "code",
      "metadata": {
        "execution": {
          "iopub.execute_input": "2021-11-17T19:25:14.888320Z",
          "iopub.status.busy": "2021-11-17T19:25:14.887639Z",
          "iopub.status.idle": "2021-11-17T19:25:32.574201Z",
          "shell.execute_reply": "2021-11-17T19:25:32.573610Z",
          "shell.execute_reply.started": "2021-11-17T19:22:41.171995Z"
        },
        "papermill": {
          "duration": 17.721267,
          "end_time": "2021-11-17T19:25:32.574354",
          "exception": false,
          "start_time": "2021-11-17T19:25:14.853087",
          "status": "completed"
        },
        "tags": [],
        "id": "5e1160e7"
      },
      "source": [
        "price_column = 'Close'\n",
        "ids = list(details.Asset_ID)\n",
        "chunks = []\n",
        "for id in ids:    \n",
        "    asset = data[data.Asset_ID == id].copy()\n",
        "    asset.sort_values(by='Time', inplace=True)\n",
        "    asset.set_index(keys='Time', inplace=True)\n",
        "    asset['p1'] = asset[price_column].shift(freq='-1T')\n",
        "    asset['p16'] = asset[price_column].shift(freq='-16T')\n",
        "    asset['r'] = np.log(asset.p16/asset.p1)\n",
        "    asset.drop(['p1', 'p16'], axis=1, inplace=True)\n",
        "    asset.reset_index(inplace=True)\n",
        "    chunks.append(asset)\n",
        "\n",
        "data = pd.concat(chunks)\n",
        "data.sort_values(by='Time', inplace=True)"
      ],
      "id": "5e1160e7",
      "execution_count": null,
      "outputs": []
    },
    {
      "cell_type": "markdown",
      "metadata": {
        "papermill": {
          "duration": 0.026487,
          "end_time": "2021-11-17T19:25:32.628071",
          "exception": false,
          "start_time": "2021-11-17T19:25:32.601584",
          "status": "completed"
        },
        "tags": [],
        "id": "97fe787a"
      },
      "source": [
        "Next, assign weight for each row. And calculate M(t). Note that M(t) is the same for all assets and depend only on time.\n",
        "\n",
        "$$M(t) = \\frac{\\sum_a w^a R^a(t)}{\\sum_a w^a}$$\n",
        "\n",
        "We do not know if ${\\sum_a w^a}$ should be calculated for all assets or only for assets having data at time t.\n"
      ],
      "id": "97fe787a"
    },
    {
      "cell_type": "code",
      "metadata": {
        "execution": {
          "iopub.execute_input": "2021-11-17T19:25:32.689186Z",
          "iopub.status.busy": "2021-11-17T19:25:32.688453Z",
          "iopub.status.idle": "2021-11-17T19:25:35.877228Z",
          "shell.execute_reply": "2021-11-17T19:25:35.877749Z",
          "shell.execute_reply.started": "2021-11-17T19:22:57.258509Z"
        },
        "papermill": {
          "duration": 3.223534,
          "end_time": "2021-11-17T19:25:35.877958",
          "exception": false,
          "start_time": "2021-11-17T19:25:32.654424",
          "status": "completed"
        },
        "tags": [],
        "id": "73512204"
      },
      "source": [
        "data['w'] = data['Asset_ID'].map(details.set_index(keys='Asset_ID')['Weight'])\n",
        "weight_sum = details.Weight.sum()\n",
        "\n",
        "data['weighted_asset_r'] = data.w * data.r\n",
        "time_group = data.groupby('Time')\n",
        "\n",
        "m = time_group['weighted_asset_r'].sum() / time_group['w'].sum()\n",
        "#m = time_group['weighted_asset_r'].sum() / weight_sum\n",
        "\n",
        "data.set_index(keys=['Time'], inplace=True)\n",
        "data['m'] = m\n",
        "data.reset_index(inplace=True)"
      ],
      "id": "73512204",
      "execution_count": null,
      "outputs": []
    },
    {
      "cell_type": "markdown",
      "metadata": {
        "papermill": {
          "duration": 0.026207,
          "end_time": "2021-11-17T19:25:35.931436",
          "exception": false,
          "start_time": "2021-11-17T19:25:35.905229",
          "status": "completed"
        },
        "tags": [],
        "id": "1ff7ab9e"
      },
      "source": [
        "After that, Beta is calculated. Bracket $\\langle .\\rangle$ represent the rolling average over time (3750 minute windows). If there is no full 3750 minute window, $\\beta$ becomes zero.\n",
        "\n",
        "$$\\beta^a = \\frac{\\langle M \\cdot R^a \\rangle}{\\langle M^2 \\rangle}$$"
      ],
      "id": "1ff7ab9e"
    },
    {
      "cell_type": "code",
      "metadata": {
        "execution": {
          "iopub.execute_input": "2021-11-17T19:25:35.987848Z",
          "iopub.status.busy": "2021-11-17T19:25:35.987192Z",
          "iopub.status.idle": "2021-11-17T19:25:50.923465Z",
          "shell.execute_reply": "2021-11-17T19:25:50.922897Z",
          "shell.execute_reply.started": "2021-11-17T19:23:00.307728Z"
        },
        "papermill": {
          "duration": 14.965549,
          "end_time": "2021-11-17T19:25:50.923619",
          "exception": false,
          "start_time": "2021-11-17T19:25:35.958070",
          "status": "completed"
        },
        "tags": [],
        "id": "dd54ca40"
      },
      "source": [
        "data['m2'] = data.m ** 2\n",
        "data['mr'] = data.r * data.m\n",
        "\n",
        "chunks = []\n",
        "for id in ids:\n",
        "    # type: pd.DataFrame\n",
        "    asset = data[data.Asset_ID == id].copy()\n",
        "    asset.sort_values(by='Time', inplace=True)\n",
        "    asset.set_index(keys='Time', inplace=True)\n",
        "    asset['mr_rolling'] = asset['mr'].rolling(window='3750T', min_periods=3750).mean()\n",
        "    asset['m2_rolling'] = asset['m2'].rolling(window='3750T', min_periods=3750).mean()\n",
        "    asset.reset_index(inplace=True)\n",
        "    chunks.append(asset)\n",
        "    debug = 1\n",
        "\n",
        "data = pd.concat(chunks)\n",
        "data.sort_values(by='Time', inplace=True)\n",
        "data['beta'] = data['mr_rolling'] / data['m2_rolling']"
      ],
      "id": "dd54ca40",
      "execution_count": null,
      "outputs": []
    },
    {
      "cell_type": "markdown",
      "metadata": {
        "papermill": {
          "duration": 0.026288,
          "end_time": "2021-11-17T19:25:50.976772",
          "exception": false,
          "start_time": "2021-11-17T19:25:50.950484",
          "status": "completed"
        },
        "tags": [],
        "id": "e43e9366"
      },
      "source": [
        "And finallly Target is calculated.\n",
        "$$\\text{Target}^a(t) = R^a(t) - \\beta^a M(t)$$"
      ],
      "id": "e43e9366"
    },
    {
      "cell_type": "code",
      "metadata": {
        "execution": {
          "iopub.execute_input": "2021-11-17T19:25:51.046856Z",
          "iopub.status.busy": "2021-11-17T19:25:51.045558Z",
          "iopub.status.idle": "2021-11-17T19:25:51.183922Z",
          "shell.execute_reply": "2021-11-17T19:25:51.183318Z",
          "shell.execute_reply.started": "2021-11-17T19:23:14.638783Z"
        },
        "papermill": {
          "duration": 0.180732,
          "end_time": "2021-11-17T19:25:51.184058",
          "exception": false,
          "start_time": "2021-11-17T19:25:51.003326",
          "status": "completed"
        },
        "tags": [],
        "id": "e650e582"
      },
      "source": [
        "data['Target_recreated'] = data['r'] - data['beta'] * data['m']"
      ],
      "id": "e650e582",
      "execution_count": null,
      "outputs": []
    },
    {
      "cell_type": "markdown",
      "metadata": {
        "papermill": {
          "duration": 0.02595,
          "end_time": "2021-11-17T19:25:51.236434",
          "exception": false,
          "start_time": "2021-11-17T19:25:51.210484",
          "status": "completed"
        },
        "tags": [],
        "id": "a166af37"
      },
      "source": [
        "Now we compare given and recreated Target."
      ],
      "id": "a166af37"
    },
    {
      "cell_type": "code",
      "metadata": {
        "execution": {
          "iopub.execute_input": "2021-11-17T19:25:51.315002Z",
          "iopub.status.busy": "2021-11-17T19:25:51.313558Z",
          "iopub.status.idle": "2021-11-17T19:25:51.822236Z",
          "shell.execute_reply": "2021-11-17T19:25:51.822831Z",
          "shell.execute_reply.started": "2021-11-17T19:23:14.792814Z"
        },
        "papermill": {
          "duration": 0.559619,
          "end_time": "2021-11-17T19:25:51.823035",
          "exception": false,
          "start_time": "2021-11-17T19:25:51.263416",
          "status": "completed"
        },
        "tags": [],
        "id": "dea1fb85",
        "outputId": "3541bb52-c098-4bf1-d6d6-435cff54d78a"
      },
      "source": [
        "data['Target_diff'] = np.abs(data['Target'] - data['Target_recreated'])\n",
        "\n",
        "print(f'Average absolute error {data.Target_diff.mean():8.6f}')\n",
        "print(f'Max absolute error {data.Target_diff.max():8.6f}')\n",
        "print(f'Standard deviation {data.Target_diff.std():8.6f}')"
      ],
      "id": "dea1fb85",
      "execution_count": null,
      "outputs": [
        {
          "name": "stdout",
          "output_type": "stream",
          "text": [
            "Average absolute error 0.000062\n",
            "Max absolute error 0.045587\n",
            "Standard deviation 0.000189\n"
          ]
        }
      ]
    },
    {
      "cell_type": "markdown",
      "metadata": {
        "papermill": {
          "duration": 0.027945,
          "end_time": "2021-11-17T19:25:51.878493",
          "exception": false,
          "start_time": "2021-11-17T19:25:51.850548",
          "status": "completed"
        },
        "tags": [],
        "id": "5d2df3ee"
      },
      "source": [
        "Normal Target is changed in range [-0.5, 0.96], so Max absolute error 2.4 means recreated Target is completely wrong for some records."
      ],
      "id": "5d2df3ee"
    },
    {
      "cell_type": "code",
      "metadata": {
        "execution": {
          "iopub.execute_input": "2021-11-17T19:25:51.936049Z",
          "iopub.status.busy": "2021-11-17T19:25:51.935431Z",
          "iopub.status.idle": "2021-11-17T19:25:52.015180Z",
          "shell.execute_reply": "2021-11-17T19:25:52.015678Z",
          "shell.execute_reply.started": "2021-11-17T19:23:15.328575Z"
        },
        "papermill": {
          "duration": 0.109998,
          "end_time": "2021-11-17T19:25:52.015840",
          "exception": false,
          "start_time": "2021-11-17T19:25:51.905842",
          "status": "completed"
        },
        "tags": [],
        "id": "8a7a0d12",
        "outputId": "4e1e01a3-e306-46c5-e014-912cbc4ad2f3"
      },
      "source": [
        "data['Target'].agg(['min', 'max'])"
      ],
      "id": "8a7a0d12",
      "execution_count": null,
      "outputs": [
        {
          "data": {
            "text/plain": [
              "min   -0.509351\n",
              "max    0.964170\n",
              "Name: Target, dtype: float64"
            ]
          },
          "execution_count": 7,
          "metadata": {},
          "output_type": "execute_result"
        }
      ]
    },
    {
      "cell_type": "markdown",
      "metadata": {
        "papermill": {
          "duration": 0.027563,
          "end_time": "2021-11-17T19:25:52.070761",
          "exception": false,
          "start_time": "2021-11-17T19:25:52.043198",
          "status": "completed"
        },
        "tags": [],
        "id": "ac7db2e9"
      },
      "source": [
        "Let's check how many records with wrong (values outside of range) recreated Target do we have."
      ],
      "id": "ac7db2e9"
    },
    {
      "cell_type": "code",
      "metadata": {
        "execution": {
          "iopub.execute_input": "2021-11-17T19:25:52.128812Z",
          "iopub.status.busy": "2021-11-17T19:25:52.128210Z",
          "iopub.status.idle": "2021-11-17T19:25:52.175394Z",
          "shell.execute_reply": "2021-11-17T19:25:52.174817Z",
          "shell.execute_reply.started": "2021-11-17T19:23:15.408384Z"
        },
        "papermill": {
          "duration": 0.077238,
          "end_time": "2021-11-17T19:25:52.175528",
          "exception": false,
          "start_time": "2021-11-17T19:25:52.098290",
          "status": "completed"
        },
        "tags": [],
        "id": "8bbc2d13",
        "outputId": "bbfa4174-f623-496a-c307-11df04931bb9"
      },
      "source": [
        "(data.Target_recreated < -0.509351).sum()"
      ],
      "id": "8bbc2d13",
      "execution_count": null,
      "outputs": [
        {
          "data": {
            "text/plain": [
              "0"
            ]
          },
          "execution_count": 8,
          "metadata": {},
          "output_type": "execute_result"
        }
      ]
    },
    {
      "cell_type": "code",
      "metadata": {
        "execution": {
          "iopub.execute_input": "2021-11-17T19:25:52.235271Z",
          "iopub.status.busy": "2021-11-17T19:25:52.234556Z",
          "iopub.status.idle": "2021-11-17T19:25:52.282855Z",
          "shell.execute_reply": "2021-11-17T19:25:52.282220Z",
          "shell.execute_reply.started": "2021-11-17T19:23:15.456535Z"
        },
        "papermill": {
          "duration": 0.079759,
          "end_time": "2021-11-17T19:25:52.283006",
          "exception": false,
          "start_time": "2021-11-17T19:25:52.203247",
          "status": "completed"
        },
        "tags": [],
        "id": "12257275",
        "outputId": "488f755f-8e16-4e17-937f-c0c01ac1836e"
      },
      "source": [
        "(data.Target_recreated > 0.96417).sum()"
      ],
      "id": "12257275",
      "execution_count": null,
      "outputs": [
        {
          "data": {
            "text/plain": [
              "0"
            ]
          },
          "execution_count": 9,
          "metadata": {},
          "output_type": "execute_result"
        }
      ]
    },
    {
      "cell_type": "markdown",
      "metadata": {
        "papermill": {
          "duration": 0.027788,
          "end_time": "2021-11-17T19:25:52.339036",
          "exception": false,
          "start_time": "2021-11-17T19:25:52.311248",
          "status": "completed"
        },
        "tags": [],
        "id": "9bd0f6e5"
      },
      "source": [
        "I have tried different prices, changed time intervals in formula, replaced rolling average from 3750 minutes to 3750 last records, etc. but result is the same or worse. It is possible minimize Max error, but avreage became higher.\n",
        "\n",
        "Please let me know if you find an error in calculations or have some insight of how original Target is really calculated."
      ],
      "id": "9bd0f6e5"
    },
    {
      "cell_type": "markdown",
      "metadata": {
        "papermill": {
          "duration": 0.027664,
          "end_time": "2021-11-17T19:25:52.394711",
          "exception": false,
          "start_time": "2021-11-17T19:25:52.367047",
          "status": "completed"
        },
        "tags": [],
        "id": "eefb2c3e"
      },
      "source": [
        "It turns out that this code gives a lot of NA values in Recreated Target, so minimizing Abs/Max error was perhaps misleading."
      ],
      "id": "eefb2c3e"
    },
    {
      "cell_type": "code",
      "metadata": {
        "execution": {
          "iopub.execute_input": "2021-11-17T19:25:52.456608Z",
          "iopub.status.busy": "2021-11-17T19:25:52.455444Z",
          "iopub.status.idle": "2021-11-17T19:25:52.503528Z",
          "shell.execute_reply": "2021-11-17T19:25:52.503992Z",
          "shell.execute_reply.started": "2021-11-17T19:23:15.505149Z"
        },
        "papermill": {
          "duration": 0.081415,
          "end_time": "2021-11-17T19:25:52.504170",
          "exception": false,
          "start_time": "2021-11-17T19:25:52.422755",
          "status": "completed"
        },
        "tags": [],
        "id": "66f97790",
        "outputId": "4a19ddde-0294-4fc3-e791-5a8873ae036e"
      },
      "source": [
        "pd.isna(data.Target).sum()"
      ],
      "id": "66f97790",
      "execution_count": null,
      "outputs": [
        {
          "data": {
            "text/plain": [
              "750338"
            ]
          },
          "execution_count": 10,
          "metadata": {},
          "output_type": "execute_result"
        }
      ]
    },
    {
      "cell_type": "code",
      "metadata": {
        "execution": {
          "iopub.execute_input": "2021-11-17T19:25:52.566466Z",
          "iopub.status.busy": "2021-11-17T19:25:52.565800Z",
          "iopub.status.idle": "2021-11-17T19:25:52.616786Z",
          "shell.execute_reply": "2021-11-17T19:25:52.616242Z",
          "shell.execute_reply.started": "2021-11-17T19:23:15.559956Z"
        },
        "papermill": {
          "duration": 0.082388,
          "end_time": "2021-11-17T19:25:52.616974",
          "exception": false,
          "start_time": "2021-11-17T19:25:52.534586",
          "status": "completed"
        },
        "tags": [],
        "id": "7f5674dc",
        "outputId": "b2e02e98-d3de-4ea1-fc06-e0fe93624de7"
      },
      "source": [
        "pd.isna(data.Target_recreated).sum()"
      ],
      "id": "7f5674dc",
      "execution_count": null,
      "outputs": [
        {
          "data": {
            "text/plain": [
              "9524636"
            ]
          },
          "execution_count": 11,
          "metadata": {},
          "output_type": "execute_result"
        }
      ]
    },
    {
      "cell_type": "markdown",
      "metadata": {
        "papermill": {
          "duration": 0.028654,
          "end_time": "2021-11-17T19:25:52.674412",
          "exception": false,
          "start_time": "2021-11-17T19:25:52.645758",
          "status": "completed"
        },
        "tags": [],
        "id": "9a2b5588"
      },
      "source": [
        "Resulting Recreated Target has more than 10 times more NA values. Let's check when these NAs were intorduced."
      ],
      "id": "9a2b5588"
    },
    {
      "cell_type": "code",
      "metadata": {
        "execution": {
          "iopub.execute_input": "2021-11-17T19:25:52.736048Z",
          "iopub.status.busy": "2021-11-17T19:25:52.735406Z",
          "iopub.status.idle": "2021-11-17T19:25:52.784938Z",
          "shell.execute_reply": "2021-11-17T19:25:52.785587Z",
          "shell.execute_reply.started": "2021-11-17T19:23:15.615523Z"
        },
        "papermill": {
          "duration": 0.082392,
          "end_time": "2021-11-17T19:25:52.785752",
          "exception": false,
          "start_time": "2021-11-17T19:25:52.703360",
          "status": "completed"
        },
        "tags": [],
        "id": "5b12a601",
        "outputId": "9f71ae28-da30-41bc-a105-f201af5f0ca7"
      },
      "source": [
        "pd.isna(data.r).sum()"
      ],
      "id": "5b12a601",
      "execution_count": null,
      "outputs": [
        {
          "data": {
            "text/plain": [
              "751424"
            ]
          },
          "execution_count": 12,
          "metadata": {},
          "output_type": "execute_result"
        }
      ]
    },
    {
      "cell_type": "markdown",
      "metadata": {
        "papermill": {
          "duration": 0.028596,
          "end_time": "2021-11-17T19:25:52.843225",
          "exception": false,
          "start_time": "2021-11-17T19:25:52.814629",
          "status": "completed"
        },
        "tags": [],
        "id": "93d4ca18"
      },
      "source": [
        "When calculating R number of NAs is almost equal to number of Target NA. The difference is 1086. It can be explained by [missing first minite](https://www.kaggle.com/c/g-research-crypto-forecasting/discussion/286095) of each month for each asset. \n",
        "\n",
        "It is interesting that the Target is present in train dataset for dates like YYYY-MM-01 23:44:00 (t+16) and YYYY-MM-01 23:59:00 (t+1). For these times calculation algorithm requires price at time YYYY-MM-01 00:00:00, but this time is absent in test data. It can be considered as a proof that Target was calculated on other data, and then train dataset was built with already calculated Target.\n",
        "\n",
        "This missing first minute of a month bug gives approximately 44 month x 2 (every row affect two targets for shift 1 and 16) x 14 (number of assets) => 1232. Some assets do not have data for all months.\n",
        "\n",
        "The only other place that can produce NA is the following code\n",
        "> rolling(window='3750T', min_periods=3750)\n",
        "\n",
        "missing values inside 3750 minutes interval result in NA values. \n",
        "\n",
        "Now let's look at the [code](https://www.kaggle.com/c/g-research-crypto-forecasting/discussion/286778) provided by host:\n",
        "> num = df.multiply(mkt.values, axis=0).rolling(window).mean().values  \n",
        "> denom = mkt.multiply(mkt.values, axis=0).rolling(window).mean().values  \n",
        "\n",
        "There are two possible types of window that rolling accepts - [it can be](https://pandas.pydata.org/pandas-docs/version/1.3.0/reference/api/pandas.DataFrame.rolling.html) either shift/int (number or rows to shift) or time offset (number of minutes to shift), but there is no **min_periods** parameter. This means that for int shift it does not produce NA at all, for time offset it may produce NA only if there is no data for last 3750 minutes.\n",
        "\n",
        "Next line of the code calculates beta and removes all resulting non-number values with zero:\n",
        "> beta = np.nan_to_num( num.T / denom, nan=0., posinf=0., neginf=0.)  \n",
        "\n",
        "The conclusion here is that adding min_periods=3750 which seemingly improved our metrics in fact added lots of NA values effectively minimizing data where these metrics were calculating. Host code shows that rolling average does not produce additional NA values."
      ],
      "id": "93d4ca18"
    },
    {
      "cell_type": "markdown",
      "metadata": {
        "papermill": {
          "duration": 0.028623,
          "end_time": "2021-11-17T19:25:52.900914",
          "exception": false,
          "start_time": "2021-11-17T19:25:52.872291",
          "status": "completed"
        },
        "tags": [],
        "id": "b731921c"
      },
      "source": [
        "# More optimized version\n",
        "\n",
        "Here we try to do two things: solve problem with NA and make this code working faster, and re-use code from host.\n",
        "The code from the host shows that data should be re-presented in a little bit different way to avoid expensive minutes-based shift/rolling operations and perform calculation for all assets at once."
      ],
      "id": "b731921c"
    },
    {
      "cell_type": "markdown",
      "metadata": {
        "papermill": {
          "duration": 0.029078,
          "end_time": "2021-11-17T19:25:52.959080",
          "exception": false,
          "start_time": "2021-11-17T19:25:52.930002",
          "status": "completed"
        },
        "tags": [],
        "id": "e407dc81"
      },
      "source": [
        "We start with creating new data frame where all timestamps (minutes) present. In the train some minutes may be missing for some assets."
      ],
      "id": "e407dc81"
    },
    {
      "cell_type": "code",
      "metadata": {
        "execution": {
          "iopub.execute_input": "2021-11-17T19:25:53.023245Z",
          "iopub.status.busy": "2021-11-17T19:25:53.020079Z",
          "iopub.status.idle": "2021-11-17T19:25:53.565113Z",
          "shell.execute_reply": "2021-11-17T19:25:53.565670Z",
          "shell.execute_reply.started": "2021-11-17T19:23:15.670140Z"
        },
        "papermill": {
          "duration": 0.577716,
          "end_time": "2021-11-17T19:25:53.565840",
          "exception": false,
          "start_time": "2021-11-17T19:25:52.988124",
          "status": "completed"
        },
        "tags": [],
        "id": "237720c3"
      },
      "source": [
        "ids = list(details.Asset_ID)\n",
        "asset_names = list(details.Asset_Name)\n",
        "\n",
        "# times = data['timestamp'].agg(['min', 'max']).to_dict()\n",
        "# all_timestamps = np.arange(times['min'], times['max'] + 60, 60)\n",
        "all_timestamps = np.sort(data['timestamp'].unique())\n",
        "targets = pd.DataFrame(index=all_timestamps)\n"
      ],
      "id": "237720c3",
      "execution_count": null,
      "outputs": []
    },
    {
      "cell_type": "markdown",
      "metadata": {
        "papermill": {
          "duration": 0.0343,
          "end_time": "2021-11-17T19:25:53.641673",
          "exception": false,
          "start_time": "2021-11-17T19:25:53.607373",
          "status": "completed"
        },
        "tags": [],
        "id": "a54ae59b"
      },
      "source": [
        "Next we calculate R for each asset and add its values as a column to new targets data frame. Note that some rows will contain NA as required prices with shift may be absent."
      ],
      "id": "a54ae59b"
    },
    {
      "cell_type": "code",
      "metadata": {
        "execution": {
          "iopub.execute_input": "2021-11-17T19:25:53.704084Z",
          "iopub.status.busy": "2021-11-17T19:25:53.703429Z",
          "iopub.status.idle": "2021-11-17T19:26:08.398516Z",
          "shell.execute_reply": "2021-11-17T19:26:08.397983Z",
          "shell.execute_reply.started": "2021-11-17T19:23:16.225906Z"
        },
        "papermill": {
          "duration": 14.727219,
          "end_time": "2021-11-17T19:26:08.398655",
          "exception": false,
          "start_time": "2021-11-17T19:25:53.671436",
          "status": "completed"
        },
        "tags": [],
        "id": "ac8478e9"
      },
      "source": [
        "for i, id in enumerate(ids):\n",
        "    asset = data[data.Asset_ID == id].set_index(keys='timestamp')\n",
        "    price = pd.Series(index=all_timestamps, data=asset[price_column])\n",
        "#     targets[asset_names[i]] = np.log(\n",
        "#         price.shift(periods=-16) /\n",
        "#         price.shift(periods=-1)\n",
        "#     )\n",
        "    targets[asset_names[i]] = (\n",
        "        price.shift(periods=-16) /\n",
        "        price.shift(periods=-1)\n",
        "    ) - 1\n",
        "\n"
      ],
      "id": "ac8478e9",
      "execution_count": null,
      "outputs": []
    },
    {
      "cell_type": "markdown",
      "metadata": {
        "papermill": {
          "duration": 0.028717,
          "end_time": "2021-11-17T19:26:08.456386",
          "exception": false,
          "start_time": "2021-11-17T19:26:08.427669",
          "status": "completed"
        },
        "tags": [],
        "id": "f67953bd"
      },
      "source": [
        "Next calculate M as weighted mean of columns (currently holding R value for each asset) for each row. This implementation count unavailable R values as zero. Please note it is not the only way to deal with NA values when calculating weighted average."
      ],
      "id": "f67953bd"
    },
    {
      "cell_type": "code",
      "metadata": {
        "execution": {
          "iopub.execute_input": "2021-11-17T19:26:08.520327Z",
          "iopub.status.busy": "2021-11-17T19:26:08.519646Z",
          "iopub.status.idle": "2021-11-17T19:26:08.907222Z",
          "shell.execute_reply": "2021-11-17T19:26:08.906517Z",
          "shell.execute_reply.started": "2021-11-17T19:23:31.030132Z"
        },
        "papermill": {
          "duration": 0.421847,
          "end_time": "2021-11-17T19:26:08.907376",
          "exception": false,
          "start_time": "2021-11-17T19:26:08.485529",
          "status": "completed"
        },
        "tags": [],
        "id": "3e84c2b7"
      },
      "source": [
        "weights = np.array(list(details.Weight))\n",
        "targets['m'] = np.average(targets.fillna(0), axis=1, weights=weights)"
      ],
      "id": "3e84c2b7",
      "execution_count": null,
      "outputs": []
    },
    {
      "cell_type": "markdown",
      "metadata": {
        "papermill": {
          "duration": 0.089006,
          "end_time": "2021-11-17T19:26:09.025585",
          "exception": false,
          "start_time": "2021-11-17T19:26:08.936579",
          "status": "completed"
        },
        "tags": [],
        "id": "1a3f3ef5"
      },
      "source": [
        "Finally it is time to apply code provided by the host to calculate beta and Target. "
      ],
      "id": "1a3f3ef5"
    },
    {
      "cell_type": "code",
      "metadata": {
        "execution": {
          "iopub.execute_input": "2021-11-17T19:26:09.093334Z",
          "iopub.status.busy": "2021-11-17T19:26:09.091929Z",
          "iopub.status.idle": "2021-11-17T19:26:10.750793Z",
          "shell.execute_reply": "2021-11-17T19:26:10.751336Z",
          "shell.execute_reply.started": "2021-11-17T19:23:31.417836Z"
        },
        "papermill": {
          "duration": 1.695329,
          "end_time": "2021-11-17T19:26:10.751524",
          "exception": false,
          "start_time": "2021-11-17T19:26:09.056195",
          "status": "completed"
        },
        "tags": [],
        "id": "cd05eed0"
      },
      "source": [
        "m = targets['m']\n",
        "\n",
        "num = targets.multiply(m.values, axis=0).rolling(3750).mean().values\n",
        "denom = m.multiply(m.values, axis=0).rolling(3750).mean().values\n",
        "beta = np.nan_to_num(num.T / denom, nan=0., posinf=0., neginf=0.)\n",
        "\n",
        "targets = targets - (beta * m.values).T"
      ],
      "id": "cd05eed0",
      "execution_count": null,
      "outputs": []
    },
    {
      "cell_type": "markdown",
      "metadata": {
        "papermill": {
          "duration": 0.029019,
          "end_time": "2021-11-17T19:26:10.809968",
          "exception": false,
          "start_time": "2021-11-17T19:26:10.780949",
          "status": "completed"
        },
        "tags": [],
        "id": "7794ebeb"
      },
      "source": [
        "Let's check how it is different from given Target and how many NA values we have."
      ],
      "id": "7794ebeb"
    },
    {
      "cell_type": "code",
      "metadata": {
        "execution": {
          "iopub.execute_input": "2021-11-17T19:26:10.873589Z",
          "iopub.status.busy": "2021-11-17T19:26:10.872563Z",
          "iopub.status.idle": "2021-11-17T19:26:19.333242Z",
          "shell.execute_reply": "2021-11-17T19:26:19.332581Z",
          "shell.execute_reply.started": "2021-11-17T19:23:33.096324Z"
        },
        "papermill": {
          "duration": 8.493399,
          "end_time": "2021-11-17T19:26:19.333383",
          "exception": false,
          "start_time": "2021-11-17T19:26:10.839984",
          "status": "completed"
        },
        "tags": [],
        "id": "7b836c1f",
        "outputId": "be920ebc-b344-46a9-9b09-c691686e3529"
      },
      "source": [
        "diffs = []\n",
        "\n",
        "for i, id in enumerate(ids):\n",
        "    print(asset_names[i])\n",
        "    # type: pd.DataFrame\n",
        "    asset = data[data.Asset_ID == id].set_index(keys='timestamp')\n",
        "    print(f'asset size {asset.shape[0]}')\n",
        "    recreated = pd.Series(index=asset.index, data=targets[asset_names[i]])\n",
        "    diff = np.abs(asset['Target'] - recreated)\n",
        "    diffs.append(diff[~pd.isna(diff)].values)\n",
        "    print(f'Average absolute error {diff.mean():8.6f}')\n",
        "    print(f'Max absolute error {diff.max():8.6f}')\n",
        "    print(f'Standard deviation {diff.std():8.6f}')\n",
        "    print(f'Target na {pd.isna(asset.Target).sum()}')\n",
        "    print(f'Target_calculated na {pd.isna(recreated).sum()}')\n",
        "    print()\n",
        "\n",
        "diffs = np.concatenate(diffs, axis=0)\n",
        "print('For all assets')\n",
        "print(f'Average absolute error {diffs.mean():8.6f}')\n",
        "print(f'Max absolute error {diffs.max():8.6f}')\n",
        "print(f'Standard deviation {diffs.std():8.6f}')\n"
      ],
      "id": "7b836c1f",
      "execution_count": null,
      "outputs": [
        {
          "name": "stdout",
          "output_type": "stream",
          "text": [
            "Bitcoin Cash\n",
            "asset size 1953537\n",
            "Average absolute error 0.000000\n",
            "Max absolute error 0.003106\n",
            "Standard deviation 0.000002\n",
            "Target na 4861\n",
            "Target_calculated na 4861\n",
            "\n",
            "Binance Coin\n",
            "asset size 1942619\n",
            "Average absolute error 0.000000\n",
            "Max absolute error 0.000000\n",
            "Standard deviation 0.000000\n",
            "Target na 13415\n",
            "Target_calculated na 13415\n",
            "\n",
            "Bitcoin\n",
            "asset size 1956282\n",
            "Average absolute error 0.000000\n",
            "Max absolute error 0.003390\n",
            "Standard deviation 0.000002\n",
            "Target na 304\n",
            "Target_calculated na 304\n",
            "\n",
            "EOS.IO\n",
            "asset size 1955140\n",
            "Average absolute error 0.000000\n",
            "Max absolute error 0.000000\n",
            "Standard deviation 0.000000\n",
            "Target na 2302\n",
            "Target_calculated na 2302\n",
            "\n",
            "Ethereum Classic\n",
            "asset size 1951127\n",
            "Average absolute error 0.000000\n",
            "Max absolute error 0.000000\n",
            "Standard deviation 0.000000\n",
            "Target na 9326\n",
            "Target_calculated na 9326\n",
            "\n",
            "Ethereum\n",
            "asset size 1956200\n",
            "Average absolute error 0.000000\n",
            "Max absolute error 0.003692\n",
            "Standard deviation 0.000003\n",
            "Target na 340\n",
            "Target_calculated na 340\n",
            "\n",
            "Litecoin\n",
            "asset size 1956030\n",
            "Average absolute error 0.000000\n",
            "Max absolute error 0.003798\n",
            "Standard deviation 0.000003\n",
            "Target na 521\n",
            "Target_calculated na 521\n",
            "\n",
            "Monero\n",
            "asset size 1701261\n",
            "Average absolute error 0.000000\n",
            "Max absolute error 0.000000\n",
            "Standard deviation 0.000000\n",
            "Target na 239603\n",
            "Target_calculated na 239603\n",
            "\n",
            "TRON\n",
            "asset size 1874560\n",
            "Average absolute error 0.000000\n",
            "Max absolute error 0.000000\n",
            "Standard deviation 0.000000\n",
            "Target na 21014\n",
            "Target_calculated na 21014\n",
            "\n",
            "Stellar\n",
            "asset size 1778749\n",
            "Average absolute error 0.000000\n",
            "Max absolute error 0.000000\n",
            "Standard deviation 0.000000\n",
            "Target na 61816\n",
            "Target_calculated na 61816\n",
            "\n",
            "Cardano\n",
            "asset size 1791867\n",
            "Average absolute error 0.000000\n",
            "Max absolute error 0.000000\n",
            "Standard deviation 0.000000\n",
            "Target na 18731\n",
            "Target_calculated na 18731\n",
            "\n",
            "IOTA\n",
            "asset size 1592071\n",
            "Average absolute error 0.000000\n",
            "Max absolute error 0.000000\n",
            "Standard deviation 0.000000\n",
            "Target na 193106\n",
            "Target_calculated na 193106\n",
            "\n",
            "Maker\n",
            "asset size 670497\n",
            "Average absolute error 0.000000\n",
            "Max absolute error 0.000000\n",
            "Standard deviation 0.000000\n",
            "Target na 40025\n",
            "Target_calculated na 40025\n",
            "\n",
            "Dogecoin\n",
            "asset size 1156866\n",
            "Average absolute error 0.000000\n",
            "Max absolute error 0.000000\n",
            "Standard deviation 0.000000\n",
            "Target na 144974\n",
            "Target_calculated na 144974\n",
            "\n",
            "For all assets\n",
            "Average absolute error 0.000000\n",
            "Max absolute error 0.003798\n",
            "Standard deviation 0.000001\n"
          ]
        }
      ]
    },
    {
      "cell_type": "markdown",
      "metadata": {
        "papermill": {
          "duration": 0.034,
          "end_time": "2021-11-17T19:26:19.401763",
          "exception": false,
          "start_time": "2021-11-17T19:26:19.367763",
          "status": "completed"
        },
        "tags": [],
        "id": "c2132928"
      },
      "source": [
        "It is still not ideal, but at least our metrics are calculated on almost all data available and number of NA almost the same as in Target.\n"
      ],
      "id": "c2132928"
    },
    {
      "cell_type": "markdown",
      "metadata": {
        "papermill": {
          "duration": 0.033837,
          "end_time": "2021-11-17T19:26:19.469819",
          "exception": false,
          "start_time": "2021-11-17T19:26:19.435982",
          "status": "completed"
        },
        "tags": [],
        "id": "e400dc8c"
      },
      "source": [
        "There is a discussion about Beta equal to zero. It turns Target calculation just to R calculation. Let's see how many non-number values we have and how many rows have beta=0."
      ],
      "id": "e400dc8c"
    },
    {
      "cell_type": "code",
      "metadata": {
        "execution": {
          "iopub.execute_input": "2021-11-17T19:26:19.546280Z",
          "iopub.status.busy": "2021-11-17T19:26:19.545012Z",
          "iopub.status.idle": "2021-11-17T19:26:19.817565Z",
          "shell.execute_reply": "2021-11-17T19:26:19.816994Z",
          "shell.execute_reply.started": "2021-11-17T19:23:41.768695Z"
        },
        "papermill": {
          "duration": 0.313427,
          "end_time": "2021-11-17T19:26:19.817695",
          "exception": false,
          "start_time": "2021-11-17T19:26:19.504268",
          "status": "completed"
        },
        "tags": [],
        "id": "a6a226a8",
        "outputId": "e972d9fb-9ec6-4f6b-ce56-62022986a43f"
      },
      "source": [
        "beta_ = num.T / denom\n",
        "\n",
        "for i, id in enumerate(ids):\n",
        "    print(asset_names[i])\n",
        "    print(f'Infiinte beta rows {np.isinf(beta_[i]).sum()}')\n",
        "    nan_sum = np.isnan(beta_[i]).sum()\n",
        "    print(f'NAN beta rows {nan_sum} ({100 * nan_sum / beta_.shape[1]:5.2f}%)')\n",
        "\n",
        "    eps = 1e-6\n",
        "    zero_sum = ((beta[i] > -eps) & (beta[i] < eps)).sum()\n",
        "    print(f'Zero beta rows {zero_sum} ({100 * zero_sum / beta.shape[1]:5.2f}%)')\n",
        "    print()"
      ],
      "id": "a6a226a8",
      "execution_count": null,
      "outputs": [
        {
          "name": "stdout",
          "output_type": "stream",
          "text": [
            "Bitcoin Cash\n",
            "Infiinte beta rows 0\n",
            "NAN beta rows 454219 (23.21%)\n",
            "Zero beta rows 454219 (23.21%)\n",
            "\n",
            "Binance Coin\n",
            "Infiinte beta rows 0\n",
            "NAN beta rows 1017774 (52.01%)\n",
            "Zero beta rows 1017774 (52.01%)\n",
            "\n",
            "Bitcoin\n",
            "Infiinte beta rows 0\n",
            "NAN beta rows 26172 ( 1.34%)\n",
            "Zero beta rows 26172 ( 1.34%)\n",
            "\n",
            "EOS.IO\n",
            "Infiinte beta rows 0\n",
            "NAN beta rows 197034 (10.07%)\n",
            "Zero beta rows 197034 (10.07%)\n",
            "\n",
            "Ethereum Classic\n",
            "Infiinte beta rows 0\n",
            "NAN beta rows 910686 (46.54%)\n",
            "Zero beta rows 910686 (46.54%)\n",
            "\n",
            "Ethereum\n",
            "Infiinte beta rows 0\n",
            "NAN beta rows 34042 ( 1.74%)\n",
            "Zero beta rows 34042 ( 1.74%)\n",
            "\n",
            "Litecoin\n",
            "Infiinte beta rows 0\n",
            "NAN beta rows 105904 ( 5.41%)\n",
            "Zero beta rows 105904 ( 5.41%)\n",
            "\n",
            "Monero\n",
            "Infiinte beta rows 0\n",
            "NAN beta rows 1662634 (84.97%)\n",
            "Zero beta rows 1662634 (84.97%)\n",
            "\n",
            "TRON\n",
            "Infiinte beta rows 0\n",
            "NAN beta rows 404944 (20.69%)\n",
            "Zero beta rows 404944 (20.69%)\n",
            "\n",
            "Stellar\n",
            "Infiinte beta rows 0\n",
            "NAN beta rows 936276 (47.85%)\n",
            "Zero beta rows 936276 (47.85%)\n",
            "\n",
            "Cardano\n",
            "Infiinte beta rows 0\n",
            "NAN beta rows 801939 (40.98%)\n",
            "Zero beta rows 801939 (40.98%)\n",
            "\n",
            "IOTA\n",
            "Infiinte beta rows 0\n",
            "NAN beta rows 1644394 (84.04%)\n",
            "Zero beta rows 1644394 (84.04%)\n",
            "\n",
            "Maker\n",
            "Infiinte beta rows 0\n",
            "NAN beta rows 1521595 (77.76%)\n",
            "Zero beta rows 1521595 (77.76%)\n",
            "\n",
            "Dogecoin\n",
            "Infiinte beta rows 0\n",
            "NAN beta rows 1578583 (80.67%)\n",
            "Zero beta rows 1578583 (80.67%)\n",
            "\n"
          ]
        }
      ]
    },
    {
      "cell_type": "markdown",
      "metadata": {
        "papermill": {
          "duration": 0.03438,
          "end_time": "2021-11-17T19:26:19.887124",
          "exception": false,
          "start_time": "2021-11-17T19:26:19.852744",
          "status": "completed"
        },
        "tags": [],
        "id": "8dd055ce"
      },
      "source": [
        "Below is the same code but in the form of a function you can copy and paste. Note that it does not require Time column, it uses timestamp instead."
      ],
      "id": "8dd055ce"
    },
    {
      "cell_type": "code",
      "metadata": {
        "execution": {
          "iopub.execute_input": "2021-11-17T19:26:19.968821Z",
          "iopub.status.busy": "2021-11-17T19:26:19.967773Z",
          "iopub.status.idle": "2021-11-17T19:26:19.970238Z",
          "shell.execute_reply": "2021-11-17T19:26:19.969624Z",
          "shell.execute_reply.started": "2021-11-17T19:23:42.060388Z"
        },
        "papermill": {
          "duration": 0.048626,
          "end_time": "2021-11-17T19:26:19.970369",
          "exception": false,
          "start_time": "2021-11-17T19:26:19.921743",
          "status": "completed"
        },
        "tags": [],
        "id": "15fe41a6"
      },
      "source": [
        "def calculate_target(data: pd.DataFrame, details: pd.DataFrame, price_column: str):\n",
        "    ids = list(details.Asset_ID)\n",
        "    asset_names = list(details.Asset_Name)\n",
        "    weights = np.array(list(details.Weight))\n",
        "\n",
        "    all_timestamps = np.sort(data['timestamp'].unique())\n",
        "    targets = pd.DataFrame(index=all_timestamps)\n",
        "\n",
        "    for i, id in enumerate(ids):\n",
        "        asset = data[data.Asset_ID == id].set_index(keys='timestamp')\n",
        "        price = pd.Series(index=all_timestamps, data=asset[price_column])\n",
        "        targets[asset_names[i]] = (\n",
        "            price.shift(periods=-16) /\n",
        "            price.shift(periods=-1)\n",
        "        ) - 1\n",
        "    \n",
        "    targets['m'] = np.average(targets.fillna(0), axis=1, weights=weights)\n",
        "    \n",
        "    m = targets['m']\n",
        "\n",
        "    num = targets.multiply(m.values, axis=0).rolling(3750).mean().values\n",
        "    denom = m.multiply(m.values, axis=0).rolling(3750).mean().values\n",
        "    beta = np.nan_to_num(num.T / denom, nan=0., posinf=0., neginf=0.)\n",
        "\n",
        "    targets = targets - (beta * m.values).T\n",
        "    targets.drop('m', axis=1, inplace=True)\n",
        "    \n",
        "    return targets"
      ],
      "id": "15fe41a6",
      "execution_count": null,
      "outputs": []
    }
  ]
}