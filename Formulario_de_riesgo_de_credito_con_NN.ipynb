{
  "nbformat": 4,
  "nbformat_minor": 0,
  "metadata": {
    "colab": {
      "name": "Copia de 02 - Redes neuronales profundas en la práctica.ipynb",
      "provenance": [],
      "collapsed_sections": [],
      "include_colab_link": true
    },
    "kernelspec": {
      "name": "python3",
      "display_name": "Python 3"
    },
    "widgets": {
      "application/vnd.jupyter.widget-state+json": {
        "cee0de6b709f43649698957c579c6d73": {
          "model_module": "@jupyter-widgets/controls",
          "model_name": "HBoxModel",
          "model_module_version": "1.5.0",
          "state": {
            "_view_name": "HBoxView",
            "_dom_classes": [],
            "_model_name": "HBoxModel",
            "_view_module": "@jupyter-widgets/controls",
            "_model_module_version": "1.5.0",
            "_view_count": null,
            "_view_module_version": "1.5.0",
            "box_style": "",
            "layout": "IPY_MODEL_6c7ae6f532544db6848709d932f046ac",
            "_model_module": "@jupyter-widgets/controls",
            "children": [
              "IPY_MODEL_23dc198bcd8f48a69e8c4282cb04122c",
              "IPY_MODEL_4d5ea34a0cb34616ab21b56f9b048d42"
            ]
          }
        },
        "6c7ae6f532544db6848709d932f046ac": {
          "model_module": "@jupyter-widgets/base",
          "model_name": "LayoutModel",
          "model_module_version": "1.2.0",
          "state": {
            "_view_name": "LayoutView",
            "grid_template_rows": null,
            "right": null,
            "justify_content": null,
            "_view_module": "@jupyter-widgets/base",
            "overflow": null,
            "_model_module_version": "1.2.0",
            "_view_count": null,
            "flex_flow": null,
            "width": null,
            "min_width": null,
            "border": null,
            "align_items": null,
            "bottom": null,
            "_model_module": "@jupyter-widgets/base",
            "top": null,
            "grid_column": null,
            "overflow_y": null,
            "overflow_x": null,
            "grid_auto_flow": null,
            "grid_area": null,
            "grid_template_columns": null,
            "flex": null,
            "_model_name": "LayoutModel",
            "justify_items": null,
            "grid_row": null,
            "max_height": null,
            "align_content": null,
            "visibility": null,
            "align_self": null,
            "height": null,
            "min_height": null,
            "padding": null,
            "grid_auto_rows": null,
            "grid_gap": null,
            "max_width": null,
            "order": null,
            "_view_module_version": "1.2.0",
            "grid_template_areas": null,
            "object_position": null,
            "object_fit": null,
            "grid_auto_columns": null,
            "margin": null,
            "display": null,
            "left": null
          }
        },
        "23dc198bcd8f48a69e8c4282cb04122c": {
          "model_module": "@jupyter-widgets/controls",
          "model_name": "FloatProgressModel",
          "model_module_version": "1.5.0",
          "state": {
            "_view_name": "ProgressView",
            "style": "IPY_MODEL_d65e9cf1bf224e67be518decbcfe6458",
            "_dom_classes": [],
            "description": "100%",
            "_model_name": "FloatProgressModel",
            "bar_style": "success",
            "max": 303,
            "_view_module": "@jupyter-widgets/controls",
            "_model_module_version": "1.5.0",
            "value": 303,
            "_view_count": null,
            "_view_module_version": "1.5.0",
            "orientation": "horizontal",
            "min": 0,
            "description_tooltip": null,
            "_model_module": "@jupyter-widgets/controls",
            "layout": "IPY_MODEL_f4ae991a7b594a0fa4fec978432ba0e0"
          }
        },
        "4d5ea34a0cb34616ab21b56f9b048d42": {
          "model_module": "@jupyter-widgets/controls",
          "model_name": "HTMLModel",
          "model_module_version": "1.5.0",
          "state": {
            "_view_name": "HTMLView",
            "style": "IPY_MODEL_59a018fb41b9445c89eda5420469a6e8",
            "_dom_classes": [],
            "description": "",
            "_model_name": "HTMLModel",
            "placeholder": "​",
            "_view_module": "@jupyter-widgets/controls",
            "_model_module_version": "1.5.0",
            "value": " 303/303 [1:36:01&lt;00:00, 19.01s/it]",
            "_view_count": null,
            "_view_module_version": "1.5.0",
            "description_tooltip": null,
            "_model_module": "@jupyter-widgets/controls",
            "layout": "IPY_MODEL_48f1f7a3ce624bafbcc6dcae3cfaf9f1"
          }
        },
        "d65e9cf1bf224e67be518decbcfe6458": {
          "model_module": "@jupyter-widgets/controls",
          "model_name": "ProgressStyleModel",
          "model_module_version": "1.5.0",
          "state": {
            "_view_name": "StyleView",
            "_model_name": "ProgressStyleModel",
            "description_width": "initial",
            "_view_module": "@jupyter-widgets/base",
            "_model_module_version": "1.5.0",
            "_view_count": null,
            "_view_module_version": "1.2.0",
            "bar_color": null,
            "_model_module": "@jupyter-widgets/controls"
          }
        },
        "f4ae991a7b594a0fa4fec978432ba0e0": {
          "model_module": "@jupyter-widgets/base",
          "model_name": "LayoutModel",
          "model_module_version": "1.2.0",
          "state": {
            "_view_name": "LayoutView",
            "grid_template_rows": null,
            "right": null,
            "justify_content": null,
            "_view_module": "@jupyter-widgets/base",
            "overflow": null,
            "_model_module_version": "1.2.0",
            "_view_count": null,
            "flex_flow": null,
            "width": null,
            "min_width": null,
            "border": null,
            "align_items": null,
            "bottom": null,
            "_model_module": "@jupyter-widgets/base",
            "top": null,
            "grid_column": null,
            "overflow_y": null,
            "overflow_x": null,
            "grid_auto_flow": null,
            "grid_area": null,
            "grid_template_columns": null,
            "flex": null,
            "_model_name": "LayoutModel",
            "justify_items": null,
            "grid_row": null,
            "max_height": null,
            "align_content": null,
            "visibility": null,
            "align_self": null,
            "height": null,
            "min_height": null,
            "padding": null,
            "grid_auto_rows": null,
            "grid_gap": null,
            "max_width": null,
            "order": null,
            "_view_module_version": "1.2.0",
            "grid_template_areas": null,
            "object_position": null,
            "object_fit": null,
            "grid_auto_columns": null,
            "margin": null,
            "display": null,
            "left": null
          }
        },
        "59a018fb41b9445c89eda5420469a6e8": {
          "model_module": "@jupyter-widgets/controls",
          "model_name": "DescriptionStyleModel",
          "model_module_version": "1.5.0",
          "state": {
            "_view_name": "StyleView",
            "_model_name": "DescriptionStyleModel",
            "description_width": "",
            "_view_module": "@jupyter-widgets/base",
            "_model_module_version": "1.5.0",
            "_view_count": null,
            "_view_module_version": "1.2.0",
            "_model_module": "@jupyter-widgets/controls"
          }
        },
        "48f1f7a3ce624bafbcc6dcae3cfaf9f1": {
          "model_module": "@jupyter-widgets/base",
          "model_name": "LayoutModel",
          "model_module_version": "1.2.0",
          "state": {
            "_view_name": "LayoutView",
            "grid_template_rows": null,
            "right": null,
            "justify_content": null,
            "_view_module": "@jupyter-widgets/base",
            "overflow": null,
            "_model_module_version": "1.2.0",
            "_view_count": null,
            "flex_flow": null,
            "width": null,
            "min_width": null,
            "border": null,
            "align_items": null,
            "bottom": null,
            "_model_module": "@jupyter-widgets/base",
            "top": null,
            "grid_column": null,
            "overflow_y": null,
            "overflow_x": null,
            "grid_auto_flow": null,
            "grid_area": null,
            "grid_template_columns": null,
            "flex": null,
            "_model_name": "LayoutModel",
            "justify_items": null,
            "grid_row": null,
            "max_height": null,
            "align_content": null,
            "visibility": null,
            "align_self": null,
            "height": null,
            "min_height": null,
            "padding": null,
            "grid_auto_rows": null,
            "grid_gap": null,
            "max_width": null,
            "order": null,
            "_view_module_version": "1.2.0",
            "grid_template_areas": null,
            "object_position": null,
            "object_fit": null,
            "grid_auto_columns": null,
            "margin": null,
            "display": null,
            "left": null
          }
        }
      }
    }
  },
  "cells": [
    {
      "cell_type": "markdown",
      "metadata": {
        "id": "view-in-github",
        "colab_type": "text"
      },
      "source": [
        "<a href=\"https://colab.research.google.com/github/jderazoa/ML-con-PYTHON/blob/master/Formulario_de_riesgo_de_credito_con_NN.ipynb\" target=\"_parent\"><img src=\"https://colab.research.google.com/assets/colab-badge.svg\" alt=\"Open In Colab\"/></a>"
      ]
    },
    {
      "cell_type": "markdown",
      "metadata": {
        "id": "fgOASB_nabvv"
      },
      "source": [
        "# Redes neuronales profundas en la práctica"
      ]
    },
    {
      "cell_type": "markdown",
      "metadata": {
        "id": "djw8UDqJbEDf"
      },
      "source": [
        "## Cargando paquetes necesarios"
      ]
    },
    {
      "cell_type": "code",
      "metadata": {
        "id": "Yr8Rjd8I14TM"
      },
      "source": [
        "import pandas as pd\n",
        "import numpy as np\n",
        "import tensorflow as tf\n",
        "from tensorflow import keras\n",
        "from tensorflow.keras import layers"
      ],
      "execution_count": null,
      "outputs": []
    },
    {
      "cell_type": "markdown",
      "metadata": {
        "id": "8nkuuTi5bGsb"
      },
      "source": [
        "## Preparando los datos\n",
        "\n",
        "La variable `Target` indica si el paciente padece de una enfermedad del corazón. Siendo `1=si`, `0=no`"
      ]
    },
    {
      "cell_type": "markdown",
      "metadata": {
        "id": "01J9ZDrPb5vy"
      },
      "source": [
        "<img src=\"https://www.researchgate.net/profile/Bhuvaneswari_N_G/publication/261389750/figure/tbl1/AS:669279057879061@1536579970905/SUMMARY-OF-THE-HEART-DISEASE-DATASET.png\" height=600px>\n"
      ]
    },
    {
      "cell_type": "code",
      "metadata": {
        "colab": {
          "base_uri": "https://localhost:8080/",
          "height": 417
        },
        "id": "SxRFHf_6bKqW",
        "outputId": "e9e76cd2-2f77-4814-9a3c-ef46bee5416c"
      },
      "source": [
        "file_url = \"http://storage.googleapis.com/download.tensorflow.org/data/heart.csv\"\n",
        "df = pd.read_csv(file_url)\n",
        "df"
      ],
      "execution_count": null,
      "outputs": [
        {
          "output_type": "execute_result",
          "data": {
            "text/html": [
              "<div>\n",
              "<style scoped>\n",
              "    .dataframe tbody tr th:only-of-type {\n",
              "        vertical-align: middle;\n",
              "    }\n",
              "\n",
              "    .dataframe tbody tr th {\n",
              "        vertical-align: top;\n",
              "    }\n",
              "\n",
              "    .dataframe thead th {\n",
              "        text-align: right;\n",
              "    }\n",
              "</style>\n",
              "<table border=\"1\" class=\"dataframe\">\n",
              "  <thead>\n",
              "    <tr style=\"text-align: right;\">\n",
              "      <th></th>\n",
              "      <th>age</th>\n",
              "      <th>sex</th>\n",
              "      <th>cp</th>\n",
              "      <th>trestbps</th>\n",
              "      <th>chol</th>\n",
              "      <th>fbs</th>\n",
              "      <th>restecg</th>\n",
              "      <th>thalach</th>\n",
              "      <th>exang</th>\n",
              "      <th>oldpeak</th>\n",
              "      <th>slope</th>\n",
              "      <th>ca</th>\n",
              "      <th>thal</th>\n",
              "      <th>target</th>\n",
              "    </tr>\n",
              "  </thead>\n",
              "  <tbody>\n",
              "    <tr>\n",
              "      <th>0</th>\n",
              "      <td>63</td>\n",
              "      <td>1</td>\n",
              "      <td>1</td>\n",
              "      <td>145</td>\n",
              "      <td>233</td>\n",
              "      <td>1</td>\n",
              "      <td>2</td>\n",
              "      <td>150</td>\n",
              "      <td>0</td>\n",
              "      <td>2.3</td>\n",
              "      <td>3</td>\n",
              "      <td>0</td>\n",
              "      <td>fixed</td>\n",
              "      <td>0</td>\n",
              "    </tr>\n",
              "    <tr>\n",
              "      <th>1</th>\n",
              "      <td>67</td>\n",
              "      <td>1</td>\n",
              "      <td>4</td>\n",
              "      <td>160</td>\n",
              "      <td>286</td>\n",
              "      <td>0</td>\n",
              "      <td>2</td>\n",
              "      <td>108</td>\n",
              "      <td>1</td>\n",
              "      <td>1.5</td>\n",
              "      <td>2</td>\n",
              "      <td>3</td>\n",
              "      <td>normal</td>\n",
              "      <td>1</td>\n",
              "    </tr>\n",
              "    <tr>\n",
              "      <th>2</th>\n",
              "      <td>67</td>\n",
              "      <td>1</td>\n",
              "      <td>4</td>\n",
              "      <td>120</td>\n",
              "      <td>229</td>\n",
              "      <td>0</td>\n",
              "      <td>2</td>\n",
              "      <td>129</td>\n",
              "      <td>1</td>\n",
              "      <td>2.6</td>\n",
              "      <td>2</td>\n",
              "      <td>2</td>\n",
              "      <td>reversible</td>\n",
              "      <td>0</td>\n",
              "    </tr>\n",
              "    <tr>\n",
              "      <th>3</th>\n",
              "      <td>37</td>\n",
              "      <td>1</td>\n",
              "      <td>3</td>\n",
              "      <td>130</td>\n",
              "      <td>250</td>\n",
              "      <td>0</td>\n",
              "      <td>0</td>\n",
              "      <td>187</td>\n",
              "      <td>0</td>\n",
              "      <td>3.5</td>\n",
              "      <td>3</td>\n",
              "      <td>0</td>\n",
              "      <td>normal</td>\n",
              "      <td>0</td>\n",
              "    </tr>\n",
              "    <tr>\n",
              "      <th>4</th>\n",
              "      <td>41</td>\n",
              "      <td>0</td>\n",
              "      <td>2</td>\n",
              "      <td>130</td>\n",
              "      <td>204</td>\n",
              "      <td>0</td>\n",
              "      <td>2</td>\n",
              "      <td>172</td>\n",
              "      <td>0</td>\n",
              "      <td>1.4</td>\n",
              "      <td>1</td>\n",
              "      <td>0</td>\n",
              "      <td>normal</td>\n",
              "      <td>0</td>\n",
              "    </tr>\n",
              "    <tr>\n",
              "      <th>...</th>\n",
              "      <td>...</td>\n",
              "      <td>...</td>\n",
              "      <td>...</td>\n",
              "      <td>...</td>\n",
              "      <td>...</td>\n",
              "      <td>...</td>\n",
              "      <td>...</td>\n",
              "      <td>...</td>\n",
              "      <td>...</td>\n",
              "      <td>...</td>\n",
              "      <td>...</td>\n",
              "      <td>...</td>\n",
              "      <td>...</td>\n",
              "      <td>...</td>\n",
              "    </tr>\n",
              "    <tr>\n",
              "      <th>298</th>\n",
              "      <td>52</td>\n",
              "      <td>1</td>\n",
              "      <td>1</td>\n",
              "      <td>118</td>\n",
              "      <td>186</td>\n",
              "      <td>0</td>\n",
              "      <td>2</td>\n",
              "      <td>190</td>\n",
              "      <td>0</td>\n",
              "      <td>0.0</td>\n",
              "      <td>2</td>\n",
              "      <td>0</td>\n",
              "      <td>fixed</td>\n",
              "      <td>0</td>\n",
              "    </tr>\n",
              "    <tr>\n",
              "      <th>299</th>\n",
              "      <td>43</td>\n",
              "      <td>0</td>\n",
              "      <td>4</td>\n",
              "      <td>132</td>\n",
              "      <td>341</td>\n",
              "      <td>1</td>\n",
              "      <td>2</td>\n",
              "      <td>136</td>\n",
              "      <td>1</td>\n",
              "      <td>3.0</td>\n",
              "      <td>2</td>\n",
              "      <td>0</td>\n",
              "      <td>reversible</td>\n",
              "      <td>1</td>\n",
              "    </tr>\n",
              "    <tr>\n",
              "      <th>300</th>\n",
              "      <td>65</td>\n",
              "      <td>1</td>\n",
              "      <td>4</td>\n",
              "      <td>135</td>\n",
              "      <td>254</td>\n",
              "      <td>0</td>\n",
              "      <td>2</td>\n",
              "      <td>127</td>\n",
              "      <td>0</td>\n",
              "      <td>2.8</td>\n",
              "      <td>2</td>\n",
              "      <td>1</td>\n",
              "      <td>reversible</td>\n",
              "      <td>1</td>\n",
              "    </tr>\n",
              "    <tr>\n",
              "      <th>301</th>\n",
              "      <td>48</td>\n",
              "      <td>1</td>\n",
              "      <td>4</td>\n",
              "      <td>130</td>\n",
              "      <td>256</td>\n",
              "      <td>1</td>\n",
              "      <td>2</td>\n",
              "      <td>150</td>\n",
              "      <td>1</td>\n",
              "      <td>0.0</td>\n",
              "      <td>1</td>\n",
              "      <td>2</td>\n",
              "      <td>reversible</td>\n",
              "      <td>1</td>\n",
              "    </tr>\n",
              "    <tr>\n",
              "      <th>302</th>\n",
              "      <td>63</td>\n",
              "      <td>0</td>\n",
              "      <td>4</td>\n",
              "      <td>150</td>\n",
              "      <td>407</td>\n",
              "      <td>0</td>\n",
              "      <td>2</td>\n",
              "      <td>154</td>\n",
              "      <td>0</td>\n",
              "      <td>4.0</td>\n",
              "      <td>2</td>\n",
              "      <td>3</td>\n",
              "      <td>reversible</td>\n",
              "      <td>1</td>\n",
              "    </tr>\n",
              "  </tbody>\n",
              "</table>\n",
              "<p>303 rows × 14 columns</p>\n",
              "</div>"
            ],
            "text/plain": [
              "     age  sex  cp  trestbps  chol  ...  oldpeak  slope  ca        thal  target\n",
              "0     63    1   1       145   233  ...      2.3      3   0       fixed       0\n",
              "1     67    1   4       160   286  ...      1.5      2   3      normal       1\n",
              "2     67    1   4       120   229  ...      2.6      2   2  reversible       0\n",
              "3     37    1   3       130   250  ...      3.5      3   0      normal       0\n",
              "4     41    0   2       130   204  ...      1.4      1   0      normal       0\n",
              "..   ...  ...  ..       ...   ...  ...      ...    ...  ..         ...     ...\n",
              "298   52    1   1       118   186  ...      0.0      2   0       fixed       0\n",
              "299   43    0   4       132   341  ...      3.0      2   0  reversible       1\n",
              "300   65    1   4       135   254  ...      2.8      2   1  reversible       1\n",
              "301   48    1   4       130   256  ...      0.0      1   2  reversible       1\n",
              "302   63    0   4       150   407  ...      4.0      2   3  reversible       1\n",
              "\n",
              "[303 rows x 14 columns]"
            ]
          },
          "metadata": {
            "tags": []
          },
          "execution_count": 2
        }
      ]
    },
    {
      "cell_type": "code",
      "metadata": {
        "colab": {
          "base_uri": "https://localhost:8080/",
          "height": 295
        },
        "id": "PCe6XVx4jTbX",
        "outputId": "df45492e-819e-4fad-b609-26492cd71645"
      },
      "source": [
        "df.describe()"
      ],
      "execution_count": null,
      "outputs": [
        {
          "output_type": "execute_result",
          "data": {
            "text/html": [
              "<div>\n",
              "<style scoped>\n",
              "    .dataframe tbody tr th:only-of-type {\n",
              "        vertical-align: middle;\n",
              "    }\n",
              "\n",
              "    .dataframe tbody tr th {\n",
              "        vertical-align: top;\n",
              "    }\n",
              "\n",
              "    .dataframe thead th {\n",
              "        text-align: right;\n",
              "    }\n",
              "</style>\n",
              "<table border=\"1\" class=\"dataframe\">\n",
              "  <thead>\n",
              "    <tr style=\"text-align: right;\">\n",
              "      <th></th>\n",
              "      <th>age</th>\n",
              "      <th>sex</th>\n",
              "      <th>cp</th>\n",
              "      <th>trestbps</th>\n",
              "      <th>chol</th>\n",
              "      <th>fbs</th>\n",
              "      <th>restecg</th>\n",
              "      <th>thalach</th>\n",
              "      <th>exang</th>\n",
              "      <th>oldpeak</th>\n",
              "      <th>slope</th>\n",
              "      <th>ca</th>\n",
              "      <th>target</th>\n",
              "    </tr>\n",
              "  </thead>\n",
              "  <tbody>\n",
              "    <tr>\n",
              "      <th>count</th>\n",
              "      <td>303.000000</td>\n",
              "      <td>303.000000</td>\n",
              "      <td>303.000000</td>\n",
              "      <td>303.000000</td>\n",
              "      <td>303.000000</td>\n",
              "      <td>303.000000</td>\n",
              "      <td>303.000000</td>\n",
              "      <td>303.000000</td>\n",
              "      <td>303.000000</td>\n",
              "      <td>303.000000</td>\n",
              "      <td>303.000000</td>\n",
              "      <td>303.000000</td>\n",
              "      <td>303.000000</td>\n",
              "    </tr>\n",
              "    <tr>\n",
              "      <th>mean</th>\n",
              "      <td>54.594059</td>\n",
              "      <td>0.676568</td>\n",
              "      <td>3.108911</td>\n",
              "      <td>131.785479</td>\n",
              "      <td>246.547855</td>\n",
              "      <td>0.148515</td>\n",
              "      <td>0.990099</td>\n",
              "      <td>149.194719</td>\n",
              "      <td>0.326733</td>\n",
              "      <td>1.057756</td>\n",
              "      <td>1.590759</td>\n",
              "      <td>0.683168</td>\n",
              "      <td>0.273927</td>\n",
              "    </tr>\n",
              "    <tr>\n",
              "      <th>std</th>\n",
              "      <td>9.016370</td>\n",
              "      <td>0.468560</td>\n",
              "      <td>1.028414</td>\n",
              "      <td>17.748338</td>\n",
              "      <td>52.175933</td>\n",
              "      <td>0.356198</td>\n",
              "      <td>0.988293</td>\n",
              "      <td>23.173368</td>\n",
              "      <td>0.469794</td>\n",
              "      <td>1.165025</td>\n",
              "      <td>0.617767</td>\n",
              "      <td>0.937773</td>\n",
              "      <td>0.446710</td>\n",
              "    </tr>\n",
              "    <tr>\n",
              "      <th>min</th>\n",
              "      <td>29.000000</td>\n",
              "      <td>0.000000</td>\n",
              "      <td>0.000000</td>\n",
              "      <td>94.000000</td>\n",
              "      <td>126.000000</td>\n",
              "      <td>0.000000</td>\n",
              "      <td>0.000000</td>\n",
              "      <td>71.000000</td>\n",
              "      <td>0.000000</td>\n",
              "      <td>0.000000</td>\n",
              "      <td>1.000000</td>\n",
              "      <td>0.000000</td>\n",
              "      <td>0.000000</td>\n",
              "    </tr>\n",
              "    <tr>\n",
              "      <th>25%</th>\n",
              "      <td>48.000000</td>\n",
              "      <td>0.000000</td>\n",
              "      <td>2.000000</td>\n",
              "      <td>120.000000</td>\n",
              "      <td>211.000000</td>\n",
              "      <td>0.000000</td>\n",
              "      <td>0.000000</td>\n",
              "      <td>132.000000</td>\n",
              "      <td>0.000000</td>\n",
              "      <td>0.000000</td>\n",
              "      <td>1.000000</td>\n",
              "      <td>0.000000</td>\n",
              "      <td>0.000000</td>\n",
              "    </tr>\n",
              "    <tr>\n",
              "      <th>50%</th>\n",
              "      <td>56.000000</td>\n",
              "      <td>1.000000</td>\n",
              "      <td>3.000000</td>\n",
              "      <td>130.000000</td>\n",
              "      <td>241.000000</td>\n",
              "      <td>0.000000</td>\n",
              "      <td>1.000000</td>\n",
              "      <td>152.000000</td>\n",
              "      <td>0.000000</td>\n",
              "      <td>0.800000</td>\n",
              "      <td>2.000000</td>\n",
              "      <td>0.000000</td>\n",
              "      <td>0.000000</td>\n",
              "    </tr>\n",
              "    <tr>\n",
              "      <th>75%</th>\n",
              "      <td>61.000000</td>\n",
              "      <td>1.000000</td>\n",
              "      <td>4.000000</td>\n",
              "      <td>140.000000</td>\n",
              "      <td>275.000000</td>\n",
              "      <td>0.000000</td>\n",
              "      <td>2.000000</td>\n",
              "      <td>165.500000</td>\n",
              "      <td>1.000000</td>\n",
              "      <td>1.600000</td>\n",
              "      <td>2.000000</td>\n",
              "      <td>1.000000</td>\n",
              "      <td>1.000000</td>\n",
              "    </tr>\n",
              "    <tr>\n",
              "      <th>max</th>\n",
              "      <td>77.000000</td>\n",
              "      <td>1.000000</td>\n",
              "      <td>4.000000</td>\n",
              "      <td>200.000000</td>\n",
              "      <td>564.000000</td>\n",
              "      <td>1.000000</td>\n",
              "      <td>2.000000</td>\n",
              "      <td>202.000000</td>\n",
              "      <td>1.000000</td>\n",
              "      <td>6.200000</td>\n",
              "      <td>3.000000</td>\n",
              "      <td>3.000000</td>\n",
              "      <td>1.000000</td>\n",
              "    </tr>\n",
              "  </tbody>\n",
              "</table>\n",
              "</div>"
            ],
            "text/plain": [
              "              age         sex          cp  ...       slope          ca      target\n",
              "count  303.000000  303.000000  303.000000  ...  303.000000  303.000000  303.000000\n",
              "mean    54.594059    0.676568    3.108911  ...    1.590759    0.683168    0.273927\n",
              "std      9.016370    0.468560    1.028414  ...    0.617767    0.937773    0.446710\n",
              "min     29.000000    0.000000    0.000000  ...    1.000000    0.000000    0.000000\n",
              "25%     48.000000    0.000000    2.000000  ...    1.000000    0.000000    0.000000\n",
              "50%     56.000000    1.000000    3.000000  ...    2.000000    0.000000    0.000000\n",
              "75%     61.000000    1.000000    4.000000  ...    2.000000    1.000000    1.000000\n",
              "max     77.000000    1.000000    4.000000  ...    3.000000    3.000000    1.000000\n",
              "\n",
              "[8 rows x 13 columns]"
            ]
          },
          "metadata": {
            "tags": []
          },
          "execution_count": 3
        }
      ]
    },
    {
      "cell_type": "code",
      "metadata": {
        "colab": {
          "base_uri": "https://localhost:8080/",
          "height": 282
        },
        "id": "6WGoFqRdwkFL",
        "outputId": "fcb7df68-d42e-4bc6-e847-c8d313d05833"
      },
      "source": [
        "df.ca.plot.hist()"
      ],
      "execution_count": null,
      "outputs": [
        {
          "output_type": "execute_result",
          "data": {
            "text/plain": [
              "<matplotlib.axes._subplots.AxesSubplot at 0x7fc76b8ebad0>"
            ]
          },
          "metadata": {
            "tags": []
          },
          "execution_count": 8
        },
        {
          "output_type": "display_data",
          "data": {
            "image/png": "[encoded data removed]",
            "text/plain": [
              "<Figure size 432x288 with 1 Axes>"
            ]
          },
          "metadata": {
            "tags": [],
            "needs_background": "light"
          }
        }
      ]
    },
    {
      "cell_type": "code",
      "metadata": {
        "colab": {
          "base_uri": "https://localhost:8080/",
          "height": 282
        },
        "id": "HYNus8SLwtwz",
        "outputId": "4968c8bc-9f6f-413c-e65c-f714df5b4573"
      },
      "source": [
        "df.exang.plot.hist()"
      ],
      "execution_count": null,
      "outputs": [
        {
          "output_type": "execute_result",
          "data": {
            "text/plain": [
              "<matplotlib.axes._subplots.AxesSubplot at 0x7fc76b9cf0d0>"
            ]
          },
          "metadata": {
            "tags": []
          },
          "execution_count": 7
        },
        {
          "output_type": "display_data",
          "data": {
            "image/png": "[encoded data removed]",
            "text/plain": [
              "<Figure size 432x288 with 1 Axes>"
            ]
          },
          "metadata": {
            "tags": [],
            "needs_background": "light"
          }
        }
      ]
    },
    {
      "cell_type": "code",
      "metadata": {
        "colab": {
          "base_uri": "https://localhost:8080/",
          "height": 296
        },
        "id": "Rxu1K7T56io2",
        "outputId": "0d652223-dc7b-494d-f14b-5341d43693c8"
      },
      "source": [
        "import seaborn as sns\n",
        "sns.boxplot(x = 'target', y = 'age', data=df)"
      ],
      "execution_count": null,
      "outputs": [
        {
          "output_type": "execute_result",
          "data": {
            "text/plain": [
              "<matplotlib.axes._subplots.AxesSubplot at 0x7fc75bffc250>"
            ]
          },
          "metadata": {
            "tags": []
          },
          "execution_count": 67
        },
        {
          "output_type": "display_data",
          "data": {
            "image/png": "[encoded data removed]",
            "text/plain": [
              "<Figure size 432x288 with 1 Axes>"
            ]
          },
          "metadata": {
            "tags": [],
            "needs_background": "light"
          }
        }
      ]
    },
    {
      "cell_type": "code",
      "metadata": {
        "colab": {
          "base_uri": "https://localhost:8080/"
        },
        "id": "7k8ZL4Jef8aw",
        "outputId": "ab4a6c3a-f896-4667-d8cf-4e64669e4eae"
      },
      "source": [
        "df.info()"
      ],
      "execution_count": null,
      "outputs": [
        {
          "output_type": "stream",
          "text": [
            "<class 'pandas.core.frame.DataFrame'>\n",
            "RangeIndex: 303 entries, 0 to 302\n",
            "Data columns (total 14 columns):\n",
            " #   Column    Non-Null Count  Dtype  \n",
            "---  ------    --------------  -----  \n",
            " 0   age       303 non-null    int64  \n",
            " 1   sex       303 non-null    int64  \n",
            " 2   cp        303 non-null    int64  \n",
            " 3   trestbps  303 non-null    int64  \n",
            " 4   chol      303 non-null    int64  \n",
            " 5   fbs       303 non-null    int64  \n",
            " 6   restecg   303 non-null    int64  \n",
            " 7   thalach   303 non-null    int64  \n",
            " 8   exang     303 non-null    int64  \n",
            " 9   oldpeak   303 non-null    float64\n",
            " 10  slope     303 non-null    int64  \n",
            " 11  ca        303 non-null    int64  \n",
            " 12  thal      303 non-null    object \n",
            " 13  target    303 non-null    int64  \n",
            "dtypes: float64(1), int64(12), object(1)\n",
            "memory usage: 33.3+ KB\n"
          ],
          "name": "stdout"
        }
      ]
    },
    {
      "cell_type": "code",
      "metadata": {
        "colab": {
          "base_uri": "https://localhost:8080/"
        },
        "id": "LLs1GdMmxFtO",
        "outputId": "5d0ac443-7cf2-4e53-f161-a2ebb7c21f2e"
      },
      "source": [
        "df.thal.value_counts()"
      ],
      "execution_count": null,
      "outputs": [
        {
          "output_type": "execute_result",
          "data": {
            "text/plain": [
              "normal        168\n",
              "reversible    115\n",
              "fixed          18\n",
              "1               1\n",
              "2               1\n",
              "Name: thal, dtype: int64"
            ]
          },
          "metadata": {
            "tags": []
          },
          "execution_count": 11
        }
      ]
    },
    {
      "cell_type": "code",
      "metadata": {
        "colab": {
          "base_uri": "https://localhost:8080/"
        },
        "id": "4GkUgnYkgNFk",
        "outputId": "904324f7-5805-42f9-a4b3-dcffe9b6e5f5"
      },
      "source": [
        "!pip install sklearn_pandas"
      ],
      "execution_count": null,
      "outputs": [
        {
          "output_type": "stream",
          "text": [
            "Requirement already satisfied: sklearn_pandas in /usr/local/lib/python3.7/dist-packages (1.8.0)\n",
            "Requirement already satisfied: numpy>=1.6.1 in /usr/local/lib/python3.7/dist-packages (from sklearn_pandas) (1.19.5)\n",
            "Requirement already satisfied: scikit-learn>=0.15.0 in /usr/local/lib/python3.7/dist-packages (from sklearn_pandas) (0.22.2.post1)\n",
            "Requirement already satisfied: pandas>=0.11.0 in /usr/local/lib/python3.7/dist-packages (from sklearn_pandas) (1.1.5)\n",
            "Requirement already satisfied: scipy>=0.14 in /usr/local/lib/python3.7/dist-packages (from sklearn_pandas) (1.4.1)\n",
            "Requirement already satisfied: pytz>=2017.2 in /usr/local/lib/python3.7/dist-packages (from pandas>=0.11.0->sklearn_pandas) (2018.9)\n",
            "Requirement already satisfied: python-dateutil>=2.7.3 in /usr/local/lib/python3.7/dist-packages (from pandas>=0.11.0->sklearn_pandas) (2.8.1)\n",
            "Requirement already satisfied: six>=1.5 in /usr/local/lib/python3.7/dist-packages (from python-dateutil>=2.7.3->pandas>=0.11.0->sklearn_pandas) (1.15.0)\n",
            "Requirement already satisfied: joblib>=0.11 in /usr/local/lib/python3.7/dist-packages (from scikit-learn>=0.15.0->sklearn_pandas) (1.0.1)\n"
          ],
          "name": "stdout"
        }
      ]
    },
    {
      "cell_type": "code",
      "metadata": {
        "colab": {
          "base_uri": "https://localhost:8080/"
        },
        "id": "z2OSyOUUySyy",
        "outputId": "ab011136-9769-4146-d65c-5f23716dbcdb"
      },
      "source": [
        "df_transform.age.std()"
      ],
      "execution_count": null,
      "outputs": [
        {
          "output_type": "execute_result",
          "data": {
            "text/plain": [
              "1.0016542608495933"
            ]
          },
          "metadata": {
            "tags": []
          },
          "execution_count": 17
        }
      ]
    },
    {
      "cell_type": "code",
      "metadata": {
        "colab": {
          "base_uri": "https://localhost:8080/"
        },
        "id": "RiXzdi4VdX1_",
        "outputId": "645ef152-1132-4fa5-8813-e5b428b4b29b"
      },
      "source": [
        "from sklearn.model_selection import train_test_split\n",
        "X = df_transform.iloc[:,:-1].to_numpy()\n",
        "y = df_transform.iloc[:,-1].to_numpy().reshape(-1,1)\n",
        "X_train, X_test, y_train, y_test = train_test_split(X, y, test_size=0.2, random_state=42)\n",
        "\n",
        "print('Las dimensiones de los datos de entrenamiento son:', X_train.shape)\n",
        "print('Las dimensiones de los datos de testeo son:', X_test.shape)\n",
        "print('Las dimensiones del target de entrenamiento son:', y_train.shape)\n",
        "print('Las dimensiones del target de testeo son:', y_test.shape)"
      ],
      "execution_count": null,
      "outputs": [
        {
          "output_type": "stream",
          "text": [
            "Las dimensiones de los datos de entrenamiento son: (242, 19)\n",
            "Las dimensiones de los datos de testeo son: (61, 19)\n",
            "Las dimensiones del target de entrenamiento son: (242, 1)\n",
            "Las dimensiones del target de testeo son: (61, 1)\n"
          ],
          "name": "stdout"
        }
      ]
    },
    {
      "cell_type": "markdown",
      "metadata": {
        "id": "GXWV6YQpmzva"
      },
      "source": [
        "## Generación del modelo"
      ]
    },
    {
      "cell_type": "code",
      "metadata": {
        "id": "NlP8G81mnH3T"
      },
      "source": [
        "x_in = layers.Input(shape=X.shape[1:]) # Preparese porque le van a llegar 19 columnas\n",
        "x = layers.Dense(16)(x_in)    # Se crea una capa densa (escondida) con 32 neuronas (32 variables latentes) \n",
        "x = layers.Dropout(0.5)(x) # Elimina el 50% de neuronas. Esto hace la red neuronal mas inteligente. Se regula\n",
        "y_out = layers.Dense(1, activation='sigmoid')(x) # Capa de salida sigmoide\n",
        "\n",
        "modelo = keras.Model(x_in, y_out)\n",
        "\n",
        "modelo.compile(\"adam\", \"binary_crossentropy\", metrics=[\"accuracy\"])"
      ],
      "execution_count": null,
      "outputs": []
    },
    {
      "cell_type": "code",
      "metadata": {
        "colab": {
          "base_uri": "https://localhost:8080/",
          "height": 114
        },
        "id": "cI_D9-c1t-J6",
        "outputId": "0e96f5da-4e4e-4ebb-d73c-1e38c53bcd85"
      },
      "source": [
        "keras.utils.plot_model(modelo, show_shapes=True, rankdir=\"LR\")"
      ],
      "execution_count": null,
      "outputs": [
        {
          "output_type": "execute_result",
          "data": {
            "image/png": "[encoded data removed]",
            "text/plain": [
              "<IPython.core.display.Image object>"
            ]
          },
          "metadata": {
            "tags": []
          },
          "execution_count": 24
        }
      ]
    },
    {
      "cell_type": "code",
      "metadata": {
        "colab": {
          "base_uri": "https://localhost:8080/"
        },
        "id": "TUfs7QfY7cKj",
        "outputId": "9f7ae6f7-46ea-451c-e045-15dd91fa0054"
      },
      "source": [
        "modelo.layers[1].get_weights()"
      ],
      "execution_count": null,
      "outputs": [
        {
          "output_type": "execute_result",
          "data": {
            "text/plain": [
              "[array([[-0.3435918 ,  0.1986151 ,  0.04880923, -0.08503632, -0.36328587,\n",
              "         -0.12035894, -0.4773942 ,  0.21633779, -0.07872365, -0.2014125 ,\n",
              "         -0.22355351, -0.42395613,  0.05409931,  0.12890232, -0.03641273,\n",
              "          0.5863307 ],\n",
              "        [ 0.16274397,  0.02660545,  0.00876859,  0.47041637, -0.23268574,\n",
              "         -0.36565268, -0.20241253, -0.23928341, -0.10920304,  0.2950447 ,\n",
              "         -0.4417816 , -0.4782284 , -0.25687453,  0.31467947,  0.16344748,\n",
              "          0.33943304],\n",
              "        [ 0.24182616,  0.02277497,  0.43200228, -0.11923379,  0.0321993 ,\n",
              "         -0.48384976, -0.08453295,  0.25724506, -0.22103454,  0.17975661,\n",
              "         -0.4173448 , -0.43419713, -0.30260038,  0.31911585,  0.57643276,\n",
              "          0.14028016],\n",
              "        [-0.31521782, -0.3234236 , -0.22605665, -0.3936638 ,  0.15126584,\n",
              "         -0.30599847,  0.02845264,  0.00320084,  0.28616312, -0.00742493,\n",
              "          0.13144192, -0.05204537,  0.28540683, -0.19660601,  0.23039462,\n",
              "         -0.22532676],\n",
              "        [ 0.05482293, -0.42909664,  0.32274017, -0.35494295, -0.14341253,\n",
              "         -0.2690293 , -0.3250501 , -0.10630436,  0.4626967 , -0.18948255,\n",
              "         -0.10814061, -0.23892027,  0.00858605, -0.29166746, -0.29827854,\n",
              "          0.31768796],\n",
              "        [ 0.00726732,  0.02154525, -0.25711784,  0.18803   , -0.36694232,\n",
              "         -0.2900428 ,  0.11138517, -0.17425385,  0.25157008, -0.16089807,\n",
              "         -0.01424357,  0.31535524,  0.04264813,  0.05232753, -0.0636408 ,\n",
              "          0.16159715],\n",
              "        [ 0.09066568,  0.22599462,  0.16216701,  0.01783106,  0.28409758,\n",
              "         -0.26696548,  0.00329011,  0.25460467, -0.28249636,  0.03379321,\n",
              "          0.23974237, -0.06822145, -0.19399841,  0.16553952,  0.01251631,\n",
              "         -0.19833001],\n",
              "        [ 0.12088417, -0.11398066, -0.08378563,  0.04214193, -0.02579841,\n",
              "          0.1705674 , -0.2470052 , -0.14647642,  0.20169948, -0.22952192,\n",
              "          0.34877694, -0.33133245,  0.11520623,  0.12794709, -0.3568321 ,\n",
              "          0.33418876],\n",
              "        [-0.20967652,  0.16298191,  0.06821605, -0.1844295 ,  0.28239113,\n",
              "         -0.03246052, -0.2339962 , -0.15993129,  0.0970101 ,  0.08823755,\n",
              "          0.24039803,  0.0285459 ,  0.12181297,  0.12070978,  0.03859005,\n",
              "          0.06350872],\n",
              "        [-0.1728772 , -0.04546729, -0.10071556,  0.24372464, -0.04592548,\n",
              "          0.15703668,  0.22569294,  0.02465037,  0.28366065,  0.12564453,\n",
              "          0.06984764, -0.32156038,  0.10044236, -0.18988143,  0.19086243,\n",
              "         -0.37735927],\n",
              "        [ 0.3073007 , -0.2354121 , -0.06368377, -0.19572803,  0.1804026 ,\n",
              "         -0.29073247,  0.04456291,  0.24532767, -0.24191803,  0.03496287,\n",
              "          0.2402375 ,  0.30282938, -0.1896244 , -0.01101081, -0.12969154,\n",
              "         -0.30910337],\n",
              "        [ 0.17796722,  0.02830069, -0.06539544, -0.2606583 ,  0.07476181,\n",
              "          0.11409484, -0.2439217 ,  0.14874828,  0.36988604,  0.22415061,\n",
              "          0.12713917, -0.37254933, -0.4741477 ,  0.48325887,  0.2559791 ,\n",
              "         -0.11802929],\n",
              "        [ 0.02252824,  0.19773038, -0.22335954, -0.00637677,  0.04239771,\n",
              "          0.28219455, -0.20189269, -0.30487308, -0.20450813,  0.15838403,\n",
              "          0.13178797, -0.2844518 , -0.21198452,  0.34537077,  0.2637853 ,\n",
              "          0.2708614 ],\n",
              "        [ 0.01499154, -0.16292676, -0.20142469,  0.20362765,  0.49525338,\n",
              "         -0.06610445,  0.45572022,  0.09835859, -0.14908041,  0.43972105,\n",
              "          0.07542137, -0.08664245,  0.04450067, -0.437174  , -0.43687212,\n",
              "          0.09063444],\n",
              "        [-0.18085091,  0.00555419, -0.25219867, -0.00487593,  0.02016203,\n",
              "          0.23733123,  0.06510501,  0.07981987,  0.21372786, -0.09936623,\n",
              "          0.08700513, -0.05333872, -0.15415023, -0.01511788, -0.4243934 ,\n",
              "         -0.37092626],\n",
              "        [ 0.24042207,  0.2696408 ,  0.05137287,  0.19050984,  0.02261364,\n",
              "         -0.08319597,  0.25247422,  0.03346887,  0.03790144, -0.34855157,\n",
              "          0.1962673 , -0.37424928, -0.02562705,  0.00138206, -0.14405626,\n",
              "          0.00776432],\n",
              "        [-0.25075433,  0.2927337 , -0.10602665, -0.04636032,  0.01883061,\n",
              "         -0.16038759,  0.02600049, -0.28035295, -0.14719765, -0.2778039 ,\n",
              "          0.26827788,  0.1803253 , -0.2997386 , -0.10388068,  0.359165  ,\n",
              "         -0.02543615],\n",
              "        [ 0.24091333,  0.14611661,  0.31278446, -0.00868229, -0.29017067,\n",
              "          0.21478906,  0.04868135,  0.22936124,  0.299143  , -0.38072222,\n",
              "          0.19464865, -0.41671982, -0.4603281 , -0.15534778,  0.10338602,\n",
              "          0.5266357 ],\n",
              "        [-0.01777504, -0.02982871, -0.03197836, -0.2907137 ,  0.31033748,\n",
              "         -0.1839498 , -0.03010077,  0.2500031 ,  0.2819957 ,  0.17357862,\n",
              "         -0.20885262, -0.05120209,  0.4872247 ,  0.17422348, -0.49744573,\n",
              "          0.10990714]], dtype=float32),\n",
              " array([-0.11279478, -0.13486895,  0.19220413,  0.1548099 , -0.18861671,\n",
              "        -0.11573371, -0.17304793,  0.12579615,  0.18544687, -0.1069703 ,\n",
              "        -0.17274933, -0.10876397, -0.16608757,  0.1795649 ,  0.2420187 ,\n",
              "         0.18240725], dtype=float32)]"
            ]
          },
          "metadata": {
            "tags": []
          },
          "execution_count": 70
        }
      ]
    },
    {
      "cell_type": "code",
      "metadata": {
        "colab": {
          "base_uri": "https://localhost:8080/",
          "height": 1000
        },
        "id": "O4r-CzrpuNqB",
        "outputId": "d9e600a8-a6be-46c8-a2ea-490213965e1b"
      },
      "source": [
        "import matplotlib.pyplot as plt\n",
        "history = modelo.fit(X_train, y_train, epochs=50, validation_data=(X_test, y_test))\n",
        "plt.plot(history.history['accuracy'], label = 'entrenamiento')\n",
        "plt.plot(history.history['val_accuracy'], label = 'testeo')\n",
        "plt.legend()"
      ],
      "execution_count": null,
      "outputs": [
        {
          "output_type": "stream",
          "text": [
            "Epoch 1/50\n",
            "8/8 [==============================] - 1s 23ms/step - loss: 1.0603 - accuracy: 0.3430 - val_loss: 0.9745 - val_accuracy: 0.2951\n",
            "Epoch 2/50\n",
            "8/8 [==============================] - 0s 6ms/step - loss: 0.9776 - accuracy: 0.3843 - val_loss: 0.9144 - val_accuracy: 0.3279\n",
            "Epoch 3/50\n",
            "8/8 [==============================] - 0s 6ms/step - loss: 0.9038 - accuracy: 0.4669 - val_loss: 0.8633 - val_accuracy: 0.3770\n",
            "Epoch 4/50\n",
            "8/8 [==============================] - 0s 6ms/step - loss: 0.9289 - accuracy: 0.4628 - val_loss: 0.8156 - val_accuracy: 0.4426\n",
            "Epoch 5/50\n",
            "8/8 [==============================] - 0s 5ms/step - loss: 0.8177 - accuracy: 0.5041 - val_loss: 0.7727 - val_accuracy: 0.4918\n",
            "Epoch 6/50\n",
            "8/8 [==============================] - 0s 6ms/step - loss: 0.8362 - accuracy: 0.5000 - val_loss: 0.7345 - val_accuracy: 0.5410\n",
            "Epoch 7/50\n",
            "8/8 [==============================] - 0s 7ms/step - loss: 0.7176 - accuracy: 0.5702 - val_loss: 0.7003 - val_accuracy: 0.5738\n",
            "Epoch 8/50\n",
            "8/8 [==============================] - 0s 5ms/step - loss: 0.7339 - accuracy: 0.5702 - val_loss: 0.6696 - val_accuracy: 0.5574\n",
            "Epoch 9/50\n",
            "8/8 [==============================] - 0s 5ms/step - loss: 0.6928 - accuracy: 0.6157 - val_loss: 0.6419 - val_accuracy: 0.5574\n",
            "Epoch 10/50\n",
            "8/8 [==============================] - 0s 6ms/step - loss: 0.7011 - accuracy: 0.6074 - val_loss: 0.6157 - val_accuracy: 0.6066\n",
            "Epoch 11/50\n",
            "8/8 [==============================] - 0s 5ms/step - loss: 0.6562 - accuracy: 0.6281 - val_loss: 0.5932 - val_accuracy: 0.6393\n",
            "Epoch 12/50\n",
            "8/8 [==============================] - 0s 7ms/step - loss: 0.6236 - accuracy: 0.6405 - val_loss: 0.5726 - val_accuracy: 0.6885\n",
            "Epoch 13/50\n",
            "8/8 [==============================] - 0s 6ms/step - loss: 0.5902 - accuracy: 0.6777 - val_loss: 0.5545 - val_accuracy: 0.7049\n",
            "Epoch 14/50\n",
            "8/8 [==============================] - 0s 5ms/step - loss: 0.5775 - accuracy: 0.6860 - val_loss: 0.5386 - val_accuracy: 0.7705\n",
            "Epoch 15/50\n",
            "8/8 [==============================] - 0s 7ms/step - loss: 0.5227 - accuracy: 0.7397 - val_loss: 0.5247 - val_accuracy: 0.7869\n",
            "Epoch 16/50\n",
            "8/8 [==============================] - 0s 5ms/step - loss: 0.5632 - accuracy: 0.6901 - val_loss: 0.5114 - val_accuracy: 0.7869\n",
            "Epoch 17/50\n",
            "8/8 [==============================] - 0s 6ms/step - loss: 0.5426 - accuracy: 0.7397 - val_loss: 0.4991 - val_accuracy: 0.7869\n",
            "Epoch 18/50\n",
            "8/8 [==============================] - 0s 5ms/step - loss: 0.5513 - accuracy: 0.7190 - val_loss: 0.4878 - val_accuracy: 0.8033\n",
            "Epoch 19/50\n",
            "8/8 [==============================] - 0s 5ms/step - loss: 0.4908 - accuracy: 0.7438 - val_loss: 0.4783 - val_accuracy: 0.8033\n",
            "Epoch 20/50\n",
            "8/8 [==============================] - 0s 5ms/step - loss: 0.4517 - accuracy: 0.8182 - val_loss: 0.4698 - val_accuracy: 0.8033\n",
            "Epoch 21/50\n",
            "8/8 [==============================] - 0s 5ms/step - loss: 0.5110 - accuracy: 0.7149 - val_loss: 0.4619 - val_accuracy: 0.8033\n",
            "Epoch 22/50\n",
            "8/8 [==============================] - 0s 5ms/step - loss: 0.4880 - accuracy: 0.7893 - val_loss: 0.4549 - val_accuracy: 0.8197\n",
            "Epoch 23/50\n",
            "8/8 [==============================] - 0s 4ms/step - loss: 0.4944 - accuracy: 0.7686 - val_loss: 0.4487 - val_accuracy: 0.8197\n",
            "Epoch 24/50\n",
            "8/8 [==============================] - 0s 6ms/step - loss: 0.4511 - accuracy: 0.8099 - val_loss: 0.4424 - val_accuracy: 0.8197\n",
            "Epoch 25/50\n",
            "8/8 [==============================] - 0s 5ms/step - loss: 0.4410 - accuracy: 0.8099 - val_loss: 0.4368 - val_accuracy: 0.8033\n",
            "Epoch 26/50\n",
            "8/8 [==============================] - 0s 5ms/step - loss: 0.4669 - accuracy: 0.7273 - val_loss: 0.4314 - val_accuracy: 0.8033\n",
            "Epoch 27/50\n",
            "8/8 [==============================] - 0s 6ms/step - loss: 0.4418 - accuracy: 0.8182 - val_loss: 0.4264 - val_accuracy: 0.8033\n",
            "Epoch 28/50\n",
            "8/8 [==============================] - 0s 5ms/step - loss: 0.4071 - accuracy: 0.8182 - val_loss: 0.4223 - val_accuracy: 0.8033\n",
            "Epoch 29/50\n",
            "8/8 [==============================] - 0s 5ms/step - loss: 0.4325 - accuracy: 0.7686 - val_loss: 0.4187 - val_accuracy: 0.8033\n",
            "Epoch 30/50\n",
            "8/8 [==============================] - 0s 5ms/step - loss: 0.4390 - accuracy: 0.7769 - val_loss: 0.4150 - val_accuracy: 0.8197\n",
            "Epoch 31/50\n",
            "8/8 [==============================] - 0s 5ms/step - loss: 0.4456 - accuracy: 0.7727 - val_loss: 0.4112 - val_accuracy: 0.8197\n",
            "Epoch 32/50\n",
            "8/8 [==============================] - 0s 5ms/step - loss: 0.4142 - accuracy: 0.7975 - val_loss: 0.4075 - val_accuracy: 0.8197\n",
            "Epoch 33/50\n",
            "8/8 [==============================] - 0s 5ms/step - loss: 0.4256 - accuracy: 0.7893 - val_loss: 0.4038 - val_accuracy: 0.8197\n",
            "Epoch 34/50\n",
            "8/8 [==============================] - 0s 5ms/step - loss: 0.3914 - accuracy: 0.8182 - val_loss: 0.4012 - val_accuracy: 0.8197\n",
            "Epoch 35/50\n",
            "8/8 [==============================] - 0s 7ms/step - loss: 0.3763 - accuracy: 0.8471 - val_loss: 0.3986 - val_accuracy: 0.8197\n",
            "Epoch 36/50\n",
            "8/8 [==============================] - 0s 5ms/step - loss: 0.4022 - accuracy: 0.8140 - val_loss: 0.3961 - val_accuracy: 0.8197\n",
            "Epoch 37/50\n",
            "8/8 [==============================] - 0s 5ms/step - loss: 0.4409 - accuracy: 0.7769 - val_loss: 0.3927 - val_accuracy: 0.8197\n",
            "Epoch 38/50\n",
            "8/8 [==============================] - 0s 5ms/step - loss: 0.4364 - accuracy: 0.8182 - val_loss: 0.3897 - val_accuracy: 0.8197\n",
            "Epoch 39/50\n",
            "8/8 [==============================] - 0s 5ms/step - loss: 0.4146 - accuracy: 0.8099 - val_loss: 0.3869 - val_accuracy: 0.8197\n",
            "Epoch 40/50\n",
            "8/8 [==============================] - 0s 8ms/step - loss: 0.3771 - accuracy: 0.8182 - val_loss: 0.3839 - val_accuracy: 0.8197\n",
            "Epoch 41/50\n",
            "8/8 [==============================] - 0s 6ms/step - loss: 0.3938 - accuracy: 0.8264 - val_loss: 0.3813 - val_accuracy: 0.8197\n",
            "Epoch 42/50\n",
            "8/8 [==============================] - 0s 7ms/step - loss: 0.4010 - accuracy: 0.8223 - val_loss: 0.3786 - val_accuracy: 0.8361\n",
            "Epoch 43/50\n",
            "8/8 [==============================] - 0s 8ms/step - loss: 0.4169 - accuracy: 0.8017 - val_loss: 0.3768 - val_accuracy: 0.8361\n",
            "Epoch 44/50\n",
            "8/8 [==============================] - 0s 5ms/step - loss: 0.3953 - accuracy: 0.8099 - val_loss: 0.3747 - val_accuracy: 0.8361\n",
            "Epoch 45/50\n",
            "8/8 [==============================] - 0s 5ms/step - loss: 0.3654 - accuracy: 0.8471 - val_loss: 0.3727 - val_accuracy: 0.8361\n",
            "Epoch 46/50\n",
            "8/8 [==============================] - 0s 5ms/step - loss: 0.3956 - accuracy: 0.8306 - val_loss: 0.3713 - val_accuracy: 0.8525\n",
            "Epoch 47/50\n",
            "8/8 [==============================] - 0s 6ms/step - loss: 0.3475 - accuracy: 0.8347 - val_loss: 0.3701 - val_accuracy: 0.8525\n",
            "Epoch 48/50\n",
            "8/8 [==============================] - 0s 5ms/step - loss: 0.3950 - accuracy: 0.8058 - val_loss: 0.3687 - val_accuracy: 0.8525\n",
            "Epoch 49/50\n",
            "8/8 [==============================] - 0s 5ms/step - loss: 0.3589 - accuracy: 0.7934 - val_loss: 0.3676 - val_accuracy: 0.8525\n",
            "Epoch 50/50\n",
            "8/8 [==============================] - 0s 5ms/step - loss: 0.3928 - accuracy: 0.8182 - val_loss: 0.3667 - val_accuracy: 0.8525\n"
          ],
          "name": "stdout"
        },
        {
          "output_type": "execute_result",
          "data": {
            "text/plain": [
              "<matplotlib.legend.Legend at 0x7fc75b56e210>"
            ]
          },
          "metadata": {
            "tags": []
          },
          "execution_count": 44
        },
        {
          "output_type": "display_data",
          "data": {
            "image/png": "[encoded data removed]",
            "text/plain": [
              "<Figure size 432x288 with 1 Axes>"
            ]
          },
          "metadata": {
            "tags": [],
            "needs_background": "light"
          }
        }
      ]
    },
    {
      "cell_type": "code",
      "metadata": {
        "colab": {
          "base_uri": "https://localhost:8080/"
        },
        "id": "NMFRn3c0yCx8",
        "outputId": "7b34c39b-6ea7-4b9b-f1b6-8d715dd75a72"
      },
      "source": [
        "y_prob = modelo.predict(X_test)\n",
        "y_pred = y_prob > 0.5 # Con un valor evitan falsos positivos\n",
        "y_pred"
      ],
      "execution_count": null,
      "outputs": [
        {
          "output_type": "execute_result",
          "data": {
            "text/plain": [
              "array([[False],\n",
              "       [ True],\n",
              "       [False],\n",
              "       [False],\n",
              "       [False],\n",
              "       [ True],\n",
              "       [False],\n",
              "       [False],\n",
              "       [False],\n",
              "       [False],\n",
              "       [False],\n",
              "       [False],\n",
              "       [False],\n",
              "       [False],\n",
              "       [ True],\n",
              "       [False],\n",
              "       [ True],\n",
              "       [ True],\n",
              "       [False],\n",
              "       [False],\n",
              "       [False],\n",
              "       [False],\n",
              "       [False],\n",
              "       [False],\n",
              "       [False],\n",
              "       [ True],\n",
              "       [False],\n",
              "       [False],\n",
              "       [ True],\n",
              "       [False],\n",
              "       [ True],\n",
              "       [False],\n",
              "       [ True],\n",
              "       [ True],\n",
              "       [False],\n",
              "       [False],\n",
              "       [ True],\n",
              "       [False],\n",
              "       [ True],\n",
              "       [False],\n",
              "       [False],\n",
              "       [False],\n",
              "       [ True],\n",
              "       [False],\n",
              "       [False],\n",
              "       [False],\n",
              "       [False],\n",
              "       [False],\n",
              "       [False],\n",
              "       [ True],\n",
              "       [False],\n",
              "       [False],\n",
              "       [False],\n",
              "       [False],\n",
              "       [False],\n",
              "       [False],\n",
              "       [False],\n",
              "       [ True],\n",
              "       [ True],\n",
              "       [False],\n",
              "       [False]])"
            ]
          },
          "metadata": {
            "tags": []
          },
          "execution_count": 51
        }
      ]
    },
    {
      "cell_type": "code",
      "metadata": {
        "colab": {
          "base_uri": "https://localhost:8080/"
        },
        "id": "yTQEb4JlzGb0",
        "outputId": "2f5ff779-a84a-4116-9918-11620823aa0c"
      },
      "source": [
        "from sklearn.metrics import confusion_matrix\n",
        "from sklearn.metrics import classification_report\n",
        "\n",
        "print(classification_report(y_test, y_pred))\n",
        "confusion_matrix(y_test, y_pred)"
      ],
      "execution_count": null,
      "outputs": [
        {
          "output_type": "stream",
          "text": [
            "              precision    recall  f1-score   support\n",
            "\n",
            "           0       0.89      0.91      0.90        44\n",
            "           1       0.75      0.71      0.73        17\n",
            "\n",
            "    accuracy                           0.85        61\n",
            "   macro avg       0.82      0.81      0.81        61\n",
            "weighted avg       0.85      0.85      0.85        61\n",
            "\n"
          ],
          "name": "stdout"
        },
        {
          "output_type": "execute_result",
          "data": {
            "text/plain": [
              "array([[40,  4],\n",
              "       [ 5, 12]])"
            ]
          },
          "metadata": {
            "tags": []
          },
          "execution_count": 55
        }
      ]
    },
    {
      "cell_type": "markdown",
      "metadata": {
        "id": "DBXQ65v7o8ON"
      },
      "source": [
        "## Probando un modelo basado en árboles de decisión"
      ]
    },
    {
      "cell_type": "code",
      "metadata": {
        "colab": {
          "base_uri": "https://localhost:8080/",
          "height": 447
        },
        "id": "lknx0CyAn7-2",
        "outputId": "42858840-41ec-4747-c684-003f83a6ed7d"
      },
      "source": [
        "from sklearn.tree import DecisionTreeClassifier\n",
        "from sklearn.metrics import plot_confusion_matrix\n",
        "model_dtc = DecisionTreeClassifier(random_state=1).fit(X_train, y_train)\n",
        "y_pred = model_dtc.predict(X_test)\n",
        "print(classification_report(y_test, y_pred))\n",
        "plot_confusion_matrix(model_dtc,X_test,y_test)"
      ],
      "execution_count": null,
      "outputs": [
        {
          "output_type": "stream",
          "text": [
            "              precision    recall  f1-score   support\n",
            "\n",
            "           0       0.80      0.75      0.78        44\n",
            "           1       0.45      0.53      0.49        17\n",
            "\n",
            "    accuracy                           0.69        61\n",
            "   macro avg       0.63      0.64      0.63        61\n",
            "weighted avg       0.71      0.69      0.70        61\n",
            "\n"
          ],
          "name": "stdout"
        },
        {
          "output_type": "execute_result",
          "data": {
            "text/plain": [
              "<sklearn.metrics._plot.confusion_matrix.ConfusionMatrixDisplay at 0x7fc75b5b9390>"
            ]
          },
          "metadata": {
            "tags": []
          },
          "execution_count": 50
        },
        {
          "output_type": "display_data",
          "data": {
            "image/png": "[encoded data removed]",
            "text/plain": [
              "<Figure size 432x288 with 2 Axes>"
            ]
          },
          "metadata": {
            "tags": [],
            "needs_background": "light"
          }
        }
      ]
    },
    {
      "cell_type": "markdown",
      "metadata": {
        "id": "1JwiNDibo7Q8"
      },
      "source": [
        "Como se puede observar, el modelo basado en redes neuronales consigue un mejor F1-score. Por tanto es el que se usa enseguida.\n",
        "\n"
      ]
    },
    {
      "cell_type": "code",
      "metadata": {
        "colab": {
          "base_uri": "https://localhost:8080/"
        },
        "id": "1Z7DE4AE0UuF",
        "outputId": "b8b420c4-a7f2-4ae3-a37d-f148e77e817e"
      },
      "source": [
        "df.iloc[0]"
      ],
      "execution_count": null,
      "outputs": [
        {
          "output_type": "execute_result",
          "data": {
            "text/plain": [
              "age            63\n",
              "sex             1\n",
              "cp              1\n",
              "trestbps      145\n",
              "chol          233\n",
              "fbs             1\n",
              "restecg         2\n",
              "thalach       150\n",
              "exang           0\n",
              "oldpeak       2.3\n",
              "slope           3\n",
              "ca              0\n",
              "thal        fixed\n",
              "target          0\n",
              "Name: 0, dtype: object"
            ]
          },
          "metadata": {
            "tags": []
          },
          "execution_count": 56
        }
      ]
    },
    {
      "cell_type": "markdown",
      "metadata": {
        "id": "iyXLCKndpV4G"
      },
      "source": [
        "## Pronosticando la probabilidad que un paciente sufra del corazón "
      ]
    },
    {
      "cell_type": "code",
      "metadata": {
        "id": "H5x2ewtU2mj-",
        "cellView": "form"
      },
      "source": [
        "#@title Inserte sus datos\n",
        "edad =  90#@param {type:\"integer\"}\n",
        "es_hombre = True #@param {type:\"boolean\"}\n",
        "dolor_pecho = 4 #@param {type:\"slider\", min:0, max:4, step:1}\n",
        "presion_arterial_en_reposo =  145#@param {type:\"number\"}\n",
        "colesterol_cerica_mg_dl =  233#@param {type:\"number\"}\n",
        "azucar_en_la_sangre_en_ayunas = True #@param {type:\"boolean\"}\n",
        "resultado_electrocardiografico_en_reposo =  0#@param {type:\"number\"}\n",
        "frecuencia_cardiaca_max =  150#@param {type:\"number\"}\n",
        "angina_inducida_por_ejercicio = False #@param {type:\"boolean\"}\n",
        "depresion_del_st_inducida_por_el_ejercicio_en_relacion_con_el_reposo = 2.3 #@param {type:\"slider\", min:0, max:7, step:0.1}\n",
        "pendiente_segmento_st_ejercicio_pico = 1 #@param {type:\"slider\", min:1, max:3, step:1}\n",
        "numero_de_vasos_principales_coloreados_por_floracion = 0 #@param {type:\"slider\", min:0, max:3, step:1}\n",
        "normal = \"fixed\" #@param [\"fixed\", \"normal\", \"reversible\", \"1\", \"2\"]\n"
      ],
      "execution_count": null,
      "outputs": []
    },
    {
      "cell_type": "code",
      "metadata": {
        "colab": {
          "base_uri": "https://localhost:8080/"
        },
        "id": "7xwa4Nwfhk7E",
        "outputId": "0888ccc3-203e-48ff-8118-8ee5783d1324"
      },
      "source": [
        "age = edad\n",
        "sex = int(es_hombre)\n",
        "cp = dolor_pecho\n",
        "trestbps = presion_arterial_en_reposo\n",
        "chol= colesterol_cerica_mg_dl\n",
        "fbs= int(azucar_en_la_sangre_en_ayunas)\n",
        "restecg= resultado_electrocardiografico_en_reposo\n",
        "thalach=frecuencia_cardiaca_max\n",
        "exang=int(angina_inducida_por_ejercicio)\n",
        "oldpeak= depresion_del_st_inducida_por_el_ejercicio_en_relacion_con_el_reposo\n",
        "slope=pendiente_segmento_st_ejercicio_pico\n",
        "ca=numero_de_vasos_principales_coloreados_por_floracion\n",
        "thal= normal\n",
        "\n",
        "entrada = pd.DataFrame({'age': [age], 'sex': [sex], 'cp': [cp], 'trestbps': [trestbps],\n",
        "             'chol': [chol], 'fbs': [fbs], 'restecg': [restecg], 'thalach': [thalach],\n",
        "             'exang': [exang], 'oldpeak': [oldpeak], 'slope': [slope],\n",
        "             'ca': [ca], 'thal': [thal], 'target': [0]})\n",
        "\n",
        "print(entrada)\n",
        "ejemplo = mapper.transform(entrada).iloc[:,:-1].to_numpy()\n",
        "probabilidad = round(modelo.predict(ejemplo)[0][0]*100)\n",
        "print('La probabilidad que este paciente sufra una enfermedad del corazon es:',\n",
        "      probabilidad, '%')\n"
      ],
      "execution_count": null,
      "outputs": [
        {
          "output_type": "stream",
          "text": [
            "   age  sex  cp  trestbps  chol  fbs  ...  exang  oldpeak  slope  ca   thal  target\n",
            "0   90    1   4       145   233    1  ...      0      2.3      1   0  fixed       0\n",
            "\n",
            "[1 rows x 14 columns]\n",
            "La probabilidad que este paciente sufra una enfermedad del corazon es: 84 %\n"
          ],
          "name": "stdout"
        }
      ]
    },
    {
      "cell_type": "code",
      "metadata": {
        "colab": {
          "base_uri": "https://localhost:8080/"
        },
        "id": "LS0jKiIt8wU0",
        "outputId": "71ed8a96-cc6b-4600-e25e-89589bc19e85"
      },
      "source": [
        "!pip install shap\n",
        "import shap"
      ],
      "execution_count": null,
      "outputs": [
        {
          "output_type": "stream",
          "text": [
            "Collecting shap\n",
            "  Downloading shap-0.39.0.tar.gz (356 kB)\n",
            "\u001b[?25l\r\u001b[K     |█                               | 10 kB 21.4 MB/s eta 0:00:01\r\u001b[K     |█▉                              | 20 kB 27.7 MB/s eta 0:00:01\r\u001b[K     |██▊                             | 30 kB 13.3 MB/s eta 0:00:01\r\u001b[K     |███▊                            | 40 kB 9.2 MB/s eta 0:00:01\r\u001b[K     |████▋                           | 51 kB 5.1 MB/s eta 0:00:01\r\u001b[K     |█████▌                          | 61 kB 5.1 MB/s eta 0:00:01\r\u001b[K     |██████▍                         | 71 kB 5.4 MB/s eta 0:00:01\r\u001b[K     |███████▍                        | 81 kB 6.0 MB/s eta 0:00:01\r\u001b[K     |████████▎                       | 92 kB 6.2 MB/s eta 0:00:01\r\u001b[K     |█████████▏                      | 102 kB 4.9 MB/s eta 0:00:01\r\u001b[K     |██████████▏                     | 112 kB 4.9 MB/s eta 0:00:01\r\u001b[K     |███████████                     | 122 kB 4.9 MB/s eta 0:00:01\r\u001b[K     |████████████                    | 133 kB 4.9 MB/s eta 0:00:01\r\u001b[K     |████████████▉                   | 143 kB 4.9 MB/s eta 0:00:01\r\u001b[K     |█████████████▉                  | 153 kB 4.9 MB/s eta 0:00:01\r\u001b[K     |██████████████▊                 | 163 kB 4.9 MB/s eta 0:00:01\r\u001b[K     |███████████████▋                | 174 kB 4.9 MB/s eta 0:00:01\r\u001b[K     |████████████████▋               | 184 kB 4.9 MB/s eta 0:00:01\r\u001b[K     |█████████████████▌              | 194 kB 4.9 MB/s eta 0:00:01\r\u001b[K     |██████████████████▍             | 204 kB 4.9 MB/s eta 0:00:01\r\u001b[K     |███████████████████▎            | 215 kB 4.9 MB/s eta 0:00:01\r\u001b[K     |████████████████████▎           | 225 kB 4.9 MB/s eta 0:00:01\r\u001b[K     |█████████████████████▏          | 235 kB 4.9 MB/s eta 0:00:01\r\u001b[K     |██████████████████████          | 245 kB 4.9 MB/s eta 0:00:01\r\u001b[K     |███████████████████████         | 256 kB 4.9 MB/s eta 0:00:01\r\u001b[K     |████████████████████████        | 266 kB 4.9 MB/s eta 0:00:01\r\u001b[K     |████████████████████████▉       | 276 kB 4.9 MB/s eta 0:00:01\r\u001b[K     |█████████████████████████▊      | 286 kB 4.9 MB/s eta 0:00:01\r\u001b[K     |██████████████████████████▊     | 296 kB 4.9 MB/s eta 0:00:01\r\u001b[K     |███████████████████████████▋    | 307 kB 4.9 MB/s eta 0:00:01\r\u001b[K     |████████████████████████████▌   | 317 kB 4.9 MB/s eta 0:00:01\r\u001b[K     |█████████████████████████████▍  | 327 kB 4.9 MB/s eta 0:00:01\r\u001b[K     |██████████████████████████████▍ | 337 kB 4.9 MB/s eta 0:00:01\r\u001b[K     |███████████████████████████████▎| 348 kB 4.9 MB/s eta 0:00:01\r\u001b[K     |████████████████████████████████| 356 kB 4.9 MB/s \n",
            "\u001b[?25hRequirement already satisfied: numpy in /usr/local/lib/python3.7/dist-packages (from shap) (1.19.5)\n",
            "Requirement already satisfied: scipy in /usr/local/lib/python3.7/dist-packages (from shap) (1.4.1)\n",
            "Requirement already satisfied: scikit-learn in /usr/local/lib/python3.7/dist-packages (from shap) (0.22.2.post1)\n",
            "Requirement already satisfied: pandas in /usr/local/lib/python3.7/dist-packages (from shap) (1.1.5)\n",
            "Requirement already satisfied: tqdm>4.25.0 in /usr/local/lib/python3.7/dist-packages (from shap) (4.41.1)\n",
            "Collecting slicer==0.0.7\n",
            "  Downloading slicer-0.0.7-py3-none-any.whl (14 kB)\n",
            "Requirement already satisfied: numba in /usr/local/lib/python3.7/dist-packages (from shap) (0.51.2)\n",
            "Requirement already satisfied: cloudpickle in /usr/local/lib/python3.7/dist-packages (from shap) (1.3.0)\n",
            "Requirement already satisfied: llvmlite<0.35,>=0.34.0.dev0 in /usr/local/lib/python3.7/dist-packages (from numba->shap) (0.34.0)\n",
            "Requirement already satisfied: setuptools in /usr/local/lib/python3.7/dist-packages (from numba->shap) (57.2.0)\n",
            "Requirement already satisfied: python-dateutil>=2.7.3 in /usr/local/lib/python3.7/dist-packages (from pandas->shap) (2.8.1)\n",
            "Requirement already satisfied: pytz>=2017.2 in /usr/local/lib/python3.7/dist-packages (from pandas->shap) (2018.9)\n",
            "Requirement already satisfied: six>=1.5 in /usr/local/lib/python3.7/dist-packages (from python-dateutil>=2.7.3->pandas->shap) (1.15.0)\n",
            "Requirement already satisfied: joblib>=0.11 in /usr/local/lib/python3.7/dist-packages (from scikit-learn->shap) (1.0.1)\n",
            "Building wheels for collected packages: shap\n",
            "  Building wheel for shap (setup.py) ... \u001b[?25l\u001b[?25hdone\n",
            "  Created wheel for shap: filename=shap-0.39.0-cp37-cp37m-linux_x86_64.whl size=491664 sha256=f98700b4fa213b4995ee15df2911d0f752c1b767fb29ae1f726e499c0fa25d58\n",
            "  Stored in directory: /root/.cache/pip/wheels/ca/25/8f/6ae5df62c32651cd719e972e738a8aaa4a87414c4d2b14c9c0\n",
            "Successfully built shap\n",
            "Installing collected packages: slicer, shap\n",
            "Successfully installed shap-0.39.0 slicer-0.0.7\n"
          ],
          "name": "stdout"
        }
      ]
    },
    {
      "cell_type": "code",
      "metadata": {
        "id": "657TEMOk8bQT"
      },
      "source": [
        "def f(X):\n",
        "  return modelo.predict([X[:,i] for i in range(X.shape[1])]).flatten()\n",
        "\n",
        "explainer = shap.KernelExplainer(f, X[:50,:])\n",
        "# shap_values = explainer.shap_values(X[299,:], nsamples=500)\n",
        "# shap.force_plot(explainer.expected_value, shap_values, X[299,:])"
      ],
      "execution_count": null,
      "outputs": []
    },
    {
      "cell_type": "code",
      "metadata": {
        "colab": {
          "base_uri": "https://localhost:8080/",
          "height": 82,
          "referenced_widgets": [
            "cee0de6b709f43649698957c579c6d73",
            "6c7ae6f532544db6848709d932f046ac",
            "23dc198bcd8f48a69e8c4282cb04122c",
            "4d5ea34a0cb34616ab21b56f9b048d42",
            "d65e9cf1bf224e67be518decbcfe6458",
            "f4ae991a7b594a0fa4fec978432ba0e0",
            "59a018fb41b9445c89eda5420469a6e8",
            "48f1f7a3ce624bafbcc6dcae3cfaf9f1"
          ]
        },
        "id": "Qr245gluBLlq",
        "outputId": "6ce0bcac-316f-4e4c-d6b9-dcb5951a6666"
      },
      "source": [
        "# KernelExplainer is a general approach that can work with any ML framework\n",
        "# Its inputs are the predictions and training data\n",
        "\n",
        "# # Summarize the training set to accelerate analysis\n",
        "# X1 = shap.kmeans(X, 25)\n",
        "\n",
        "# Instantiate an explainer with the model predictions and training data summary\n",
        "explainer = shap.KernelExplainer(modelo.predict, X)\n",
        "\n",
        "# Extract Shapley values from the explainer\n",
        "shap_values = explainer.shap_values(X)"
      ],
      "execution_count": null,
      "outputs": [
        {
          "output_type": "stream",
          "text": [
            "Using 303 background data samples could cause slower run times. Consider using shap.sample(data, K) or shap.kmeans(data, K) to summarize the background as K samples.\n"
          ],
          "name": "stderr"
        },
        {
          "output_type": "display_data",
          "data": {
            "application/vnd.jupyter.widget-view+json": {
              "model_id": "cee0de6b709f43649698957c579c6d73",
              "version_minor": 0,
              "version_major": 2
            },
            "text/plain": [
              "HBox(children=(FloatProgress(value=0.0, max=303.0), HTML(value='')))"
            ]
          },
          "metadata": {
            "tags": []
          }
        },
        {
          "output_type": "stream",
          "text": [
            "\n"
          ],
          "name": "stdout"
        }
      ]
    },
    {
      "cell_type": "code",
      "metadata": {
        "id": "6ZXzle7SBkE6"
      },
      "source": [
        "# Summarize the Shapley values in a plot\n",
        "shap.summary_plot(shap_values[0], X)"
      ],
      "execution_count": null,
      "outputs": []
    }
  ]
}